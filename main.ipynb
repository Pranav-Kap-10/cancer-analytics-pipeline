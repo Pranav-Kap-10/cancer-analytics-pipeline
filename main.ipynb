{
 "cells": [
  {
   "cell_type": "code",
   "execution_count": 1,
   "id": "2918a1d8",
   "metadata": {},
   "outputs": [],
   "source": [
    "import pandas as pd\n",
    "import numpy as np\n",
    "import seaborn as sns\n",
    "import matplotlib.pyplot as plt\n",
    "import warnings\n",
    "warnings.filterwarnings(\"ignore\")"
   ]
  },
  {
   "cell_type": "code",
   "execution_count": 2,
   "id": "040c62f5",
   "metadata": {},
   "outputs": [
    {
     "data": {
      "text/html": [
       "<div>\n",
       "<style scoped>\n",
       "    .dataframe tbody tr th:only-of-type {\n",
       "        vertical-align: middle;\n",
       "    }\n",
       "\n",
       "    .dataframe tbody tr th {\n",
       "        vertical-align: top;\n",
       "    }\n",
       "\n",
       "    .dataframe thead th {\n",
       "        text-align: right;\n",
       "    }\n",
       "</style>\n",
       "<table border=\"1\" class=\"dataframe\">\n",
       "  <thead>\n",
       "    <tr style=\"text-align: right;\">\n",
       "      <th></th>\n",
       "      <th>Patient_ID</th>\n",
       "      <th>Age</th>\n",
       "      <th>Gender</th>\n",
       "      <th>Country_Region</th>\n",
       "      <th>Year</th>\n",
       "      <th>Genetic_Risk</th>\n",
       "      <th>Air_Pollution</th>\n",
       "      <th>Alcohol_Use</th>\n",
       "      <th>Smoking</th>\n",
       "      <th>Obesity_Level</th>\n",
       "      <th>Cancer_Type</th>\n",
       "      <th>Cancer_Stage</th>\n",
       "      <th>Treatment_Cost_USD</th>\n",
       "      <th>Survival_Years</th>\n",
       "      <th>Target_Severity_Score</th>\n",
       "    </tr>\n",
       "  </thead>\n",
       "  <tbody>\n",
       "    <tr>\n",
       "      <th>0</th>\n",
       "      <td>PT0000000</td>\n",
       "      <td>71</td>\n",
       "      <td>Male</td>\n",
       "      <td>UK</td>\n",
       "      <td>2021</td>\n",
       "      <td>6.4</td>\n",
       "      <td>2.8</td>\n",
       "      <td>9.5</td>\n",
       "      <td>0.9</td>\n",
       "      <td>8.7</td>\n",
       "      <td>Lung</td>\n",
       "      <td>Stage III</td>\n",
       "      <td>62913.44</td>\n",
       "      <td>5.9</td>\n",
       "      <td>4.92</td>\n",
       "    </tr>\n",
       "    <tr>\n",
       "      <th>1</th>\n",
       "      <td>PT0000001</td>\n",
       "      <td>34</td>\n",
       "      <td>Male</td>\n",
       "      <td>China</td>\n",
       "      <td>2021</td>\n",
       "      <td>1.3</td>\n",
       "      <td>4.5</td>\n",
       "      <td>3.7</td>\n",
       "      <td>3.9</td>\n",
       "      <td>6.3</td>\n",
       "      <td>Leukemia</td>\n",
       "      <td>Stage 0</td>\n",
       "      <td>12573.41</td>\n",
       "      <td>4.7</td>\n",
       "      <td>4.65</td>\n",
       "    </tr>\n",
       "    <tr>\n",
       "      <th>2</th>\n",
       "      <td>PT0000002</td>\n",
       "      <td>80</td>\n",
       "      <td>Male</td>\n",
       "      <td>Pakistan</td>\n",
       "      <td>2023</td>\n",
       "      <td>7.4</td>\n",
       "      <td>7.9</td>\n",
       "      <td>2.4</td>\n",
       "      <td>4.7</td>\n",
       "      <td>0.1</td>\n",
       "      <td>Breast</td>\n",
       "      <td>Stage II</td>\n",
       "      <td>6984.33</td>\n",
       "      <td>7.1</td>\n",
       "      <td>5.84</td>\n",
       "    </tr>\n",
       "    <tr>\n",
       "      <th>3</th>\n",
       "      <td>PT0000003</td>\n",
       "      <td>40</td>\n",
       "      <td>Male</td>\n",
       "      <td>UK</td>\n",
       "      <td>2015</td>\n",
       "      <td>1.7</td>\n",
       "      <td>2.9</td>\n",
       "      <td>4.8</td>\n",
       "      <td>3.5</td>\n",
       "      <td>2.7</td>\n",
       "      <td>Colon</td>\n",
       "      <td>Stage I</td>\n",
       "      <td>67446.25</td>\n",
       "      <td>1.6</td>\n",
       "      <td>3.12</td>\n",
       "    </tr>\n",
       "    <tr>\n",
       "      <th>4</th>\n",
       "      <td>PT0000004</td>\n",
       "      <td>43</td>\n",
       "      <td>Female</td>\n",
       "      <td>Brazil</td>\n",
       "      <td>2017</td>\n",
       "      <td>5.1</td>\n",
       "      <td>2.8</td>\n",
       "      <td>2.3</td>\n",
       "      <td>6.7</td>\n",
       "      <td>0.5</td>\n",
       "      <td>Skin</td>\n",
       "      <td>Stage III</td>\n",
       "      <td>77977.12</td>\n",
       "      <td>2.9</td>\n",
       "      <td>3.62</td>\n",
       "    </tr>\n",
       "  </tbody>\n",
       "</table>\n",
       "</div>"
      ],
      "text/plain": [
       "  Patient_ID  Age  Gender Country_Region  Year  Genetic_Risk  Air_Pollution  \\\n",
       "0  PT0000000   71    Male             UK  2021           6.4            2.8   \n",
       "1  PT0000001   34    Male          China  2021           1.3            4.5   \n",
       "2  PT0000002   80    Male       Pakistan  2023           7.4            7.9   \n",
       "3  PT0000003   40    Male             UK  2015           1.7            2.9   \n",
       "4  PT0000004   43  Female         Brazil  2017           5.1            2.8   \n",
       "\n",
       "   Alcohol_Use  Smoking  Obesity_Level Cancer_Type Cancer_Stage  \\\n",
       "0          9.5      0.9            8.7        Lung    Stage III   \n",
       "1          3.7      3.9            6.3    Leukemia      Stage 0   \n",
       "2          2.4      4.7            0.1      Breast     Stage II   \n",
       "3          4.8      3.5            2.7       Colon      Stage I   \n",
       "4          2.3      6.7            0.5        Skin    Stage III   \n",
       "\n",
       "   Treatment_Cost_USD  Survival_Years  Target_Severity_Score  \n",
       "0            62913.44             5.9                   4.92  \n",
       "1            12573.41             4.7                   4.65  \n",
       "2             6984.33             7.1                   5.84  \n",
       "3            67446.25             1.6                   3.12  \n",
       "4            77977.12             2.9                   3.62  "
      ]
     },
     "execution_count": 2,
     "metadata": {},
     "output_type": "execute_result"
    }
   ],
   "source": [
    "data = pd.read_csv('global-cancer-dataset.csv')\n",
    "data.head()"
   ]
  },
  {
   "cell_type": "code",
   "execution_count": 3,
   "id": "5bc5b404",
   "metadata": {},
   "outputs": [
    {
     "data": {
      "text/plain": [
       "(50000, 15)"
      ]
     },
     "execution_count": 3,
     "metadata": {},
     "output_type": "execute_result"
    }
   ],
   "source": [
    "data.shape"
   ]
  },
  {
   "cell_type": "code",
   "execution_count": 4,
   "id": "3ee98bcb",
   "metadata": {},
   "outputs": [
    {
     "data": {
      "text/plain": [
       "Index(['Patient_ID', 'Age', 'Gender', 'Country_Region', 'Year', 'Genetic_Risk',\n",
       "       'Air_Pollution', 'Alcohol_Use', 'Smoking', 'Obesity_Level',\n",
       "       'Cancer_Type', 'Cancer_Stage', 'Treatment_Cost_USD', 'Survival_Years',\n",
       "       'Target_Severity_Score'],\n",
       "      dtype='object')"
      ]
     },
     "execution_count": 4,
     "metadata": {},
     "output_type": "execute_result"
    }
   ],
   "source": [
    "data.columns"
   ]
  },
  {
   "cell_type": "code",
   "execution_count": 5,
   "id": "e782b36d",
   "metadata": {},
   "outputs": [
    {
     "name": "stdout",
     "output_type": "stream",
     "text": [
      "<class 'pandas.core.frame.DataFrame'>\n",
      "RangeIndex: 50000 entries, 0 to 49999\n",
      "Data columns (total 15 columns):\n",
      " #   Column                 Non-Null Count  Dtype  \n",
      "---  ------                 --------------  -----  \n",
      " 0   Patient_ID             50000 non-null  object \n",
      " 1   Age                    50000 non-null  int64  \n",
      " 2   Gender                 50000 non-null  object \n",
      " 3   Country_Region         50000 non-null  object \n",
      " 4   Year                   50000 non-null  int64  \n",
      " 5   Genetic_Risk           50000 non-null  float64\n",
      " 6   Air_Pollution          50000 non-null  float64\n",
      " 7   Alcohol_Use            50000 non-null  float64\n",
      " 8   Smoking                50000 non-null  float64\n",
      " 9   Obesity_Level          50000 non-null  float64\n",
      " 10  Cancer_Type            50000 non-null  object \n",
      " 11  Cancer_Stage           50000 non-null  object \n",
      " 12  Treatment_Cost_USD     50000 non-null  float64\n",
      " 13  Survival_Years         50000 non-null  float64\n",
      " 14  Target_Severity_Score  50000 non-null  float64\n",
      "dtypes: float64(8), int64(2), object(5)\n",
      "memory usage: 5.7+ MB\n"
     ]
    }
   ],
   "source": [
    "data.info()"
   ]
  },
  {
   "cell_type": "markdown",
   "id": "5cf825e8",
   "metadata": {},
   "source": [
    "### Missing Values"
   ]
  },
  {
   "cell_type": "code",
   "execution_count": 6,
   "id": "14d20681",
   "metadata": {},
   "outputs": [
    {
     "data": {
      "text/plain": [
       "0"
      ]
     },
     "execution_count": 6,
     "metadata": {},
     "output_type": "execute_result"
    }
   ],
   "source": [
    "data.duplicated().sum()"
   ]
  },
  {
   "cell_type": "markdown",
   "id": "66e2c5fc",
   "metadata": {},
   "source": [
    "### Descriptive Analysis"
   ]
  },
  {
   "cell_type": "markdown",
   "id": "96f41592",
   "metadata": {},
   "source": [
    "### Plotting for age column"
   ]
  },
  {
   "cell_type": "code",
   "execution_count": 9,
   "id": "eb9abccf",
   "metadata": {},
   "outputs": [
    {
     "data": {
      "text/plain": [
       "0        71\n",
       "1        34\n",
       "2        80\n",
       "3        40\n",
       "4        43\n",
       "         ..\n",
       "49995    80\n",
       "49996    40\n",
       "49997    74\n",
       "49998    21\n",
       "49999    22\n",
       "Name: Age, Length: 50000, dtype: int64"
      ]
     },
     "execution_count": 9,
     "metadata": {},
     "output_type": "execute_result"
    }
   ],
   "source": [
    "data['Age']"
   ]
  },
  {
   "cell_type": "code",
   "execution_count": 17,
   "id": "40ede39b",
   "metadata": {},
   "outputs": [
    {
     "data": {
      "image/png": "[encoded data removed]",
      "text/plain": [
       "<Figure size 1000x400 with 2 Axes>"
      ]
     },
     "metadata": {},
     "output_type": "display_data"
    }
   ],
   "source": [
    "plt.figure(figsize=(10,4)) \n",
    "\n",
    "plt.subplot(1,2,1)\n",
    "sns.kdeplot(data['Age'], fill=True , color ='lightgreen')\n",
    "plt.title('KDE Age Distribution')\n",
    "\n",
    "\n",
    "plt.subplot(1,2,2)\n",
    "sns.histplot(data['Age'],fill=True, color = \"cyan\")\n",
    "plt.title('Histogram Age Distribution')\n",
    "\n",
    "plt.show()"
   ]
  },
  {
   "cell_type": "code",
   "execution_count": 18,
   "id": "4d1a71c2",
   "metadata": {},
   "outputs": [
    {
     "data": {
      "text/plain": [
       "count    50000.000000\n",
       "mean        54.421540\n",
       "std         20.224451\n",
       "min         20.000000\n",
       "25%         37.000000\n",
       "50%         54.000000\n",
       "75%         72.000000\n",
       "max         89.000000\n",
       "Name: Age, dtype: float64"
      ]
     },
     "execution_count": 18,
     "metadata": {},
     "output_type": "execute_result"
    }
   ],
   "source": [
    "data['Age'].describe()"
   ]
  },
  {
   "cell_type": "code",
   "execution_count": 19,
   "id": "cf240af4",
   "metadata": {},
   "outputs": [
    {
     "data": {
      "text/plain": [
       "0.0028724371895543672"
      ]
     },
     "execution_count": 19,
     "metadata": {},
     "output_type": "execute_result"
    }
   ],
   "source": [
    "data['Age'].skew()"
   ]
  },
  {
   "cell_type": "markdown",
   "id": "4c33e198",
   "metadata": {},
   "source": [
    "### Inference \n",
    "\n",
    "Range : 20 to 89 year \n",
    "\n",
    "Mean age : 54.42 years \n",
    "\n",
    "std : 20.22 \n",
    "\n",
    "IQR : 37(Q1) to 72(Q3)\n",
    "\n",
    "This suggest a broad representation of both young and elderly patients in the dataset , which supports age-based camparative analysis "
   ]
  },
  {
   "cell_type": "markdown",
   "id": "dbe84ebb",
   "metadata": {},
   "source": [
    "### Gender column"
   ]
  },
  {
   "cell_type": "code",
   "execution_count": 20,
   "id": "2c23f4ef",
   "metadata": {},
   "outputs": [
    {
     "data": {
      "text/plain": [
       "Gender\n",
       "Male      16796\n",
       "Female    16709\n",
       "Other     16495\n",
       "Name: count, dtype: int64"
      ]
     },
     "execution_count": 20,
     "metadata": {},
     "output_type": "execute_result"
    }
   ],
   "source": [
    "data['Gender'].value_counts()"
   ]
  },
  {
   "cell_type": "code",
   "execution_count": 22,
   "id": "6da44f96",
   "metadata": {},
   "outputs": [
    {
     "data": {
      "image/png": "[encoded data removed]",
      "text/plain": [
       "<Figure size 640x480 with 1 Axes>"
      ]
     },
     "metadata": {},
     "output_type": "display_data"
    }
   ],
   "source": [
    "sns.barplot(x=data['Gender'].value_counts().index,y=data['Gender'].value_counts().values,palette=['blue','pink','green'])\n",
    "plt.title('Gender Distribution')\n",
    "plt.xlabel('Gender')\n",
    "plt.ylabel('Count') \n",
    "plt.show()"
   ]
  },
  {
   "cell_type": "code",
   "execution_count": 25,
   "id": "880ffd0c",
   "metadata": {},
   "outputs": [
    {
     "data": {
      "image/png": "[encoded data removed]",
      "text/plain": [
       "<Figure size 640x480 with 1 Axes>"
      ]
     },
     "metadata": {},
     "output_type": "display_data"
    }
   ],
   "source": [
    "sns.barplot(x=data['Gender'].value_counts().index,y=data['Gender'].value_counts().values,palette=['blue','pink','green'])\n",
    "\n",
    "for i,v in enumerate(data['Gender'].value_counts()):\n",
    "    plt.text(i, v + 5 , str(v), ha='center' , va = 'bottom')\n",
    "plt.title('Gender Distribution')\n",
    "plt.xlabel('Gender')\n",
    "plt.ylabel('Count') \n",
    "plt.show()"
   ]
  },
  {
   "cell_type": "markdown",
   "id": "5686056e",
   "metadata": {},
   "source": [
    "Inference\n",
    "\n",
    "The dataset contains three gender categories (Male,Female,Other) with the most commom being Male \n",
    "Gender distribution is sufficient for evaluating gender specific survival trends and severity outcomes "
   ]
  },
  {
   "cell_type": "markdown",
   "id": "2fe7e0f3",
   "metadata": {},
   "source": [
    "### Countries Column "
   ]
  },
  {
   "cell_type": "code",
   "execution_count": 27,
   "id": "5264c0e8",
   "metadata": {},
   "outputs": [
    {
     "data": {
      "text/plain": [
       "Country_Region\n",
       "Australia    5092\n",
       "UK           5060\n",
       "USA          5060\n",
       "India        5040\n",
       "Germany      5024\n",
       "Russia       5017\n",
       "Brazil       5004\n",
       "Pakistan     4926\n",
       "China        4913\n",
       "Canada       4864\n",
       "Name: count, dtype: int64"
      ]
     },
     "execution_count": 27,
     "metadata": {},
     "output_type": "execute_result"
    }
   ],
   "source": [
    "data['Country_Region'].value_counts()"
   ]
  },
  {
   "cell_type": "code",
   "execution_count": 28,
   "id": "cc6032af",
   "metadata": {},
   "outputs": [],
   "source": [
    "country_count = data['Country_Region'].value_counts()"
   ]
  },
  {
   "cell_type": "code",
   "execution_count": 29,
   "id": "3592dace",
   "metadata": {},
   "outputs": [
    {
     "data": {
      "image/png": "[encoded data removed]",
      "text/plain": [
       "<Figure size 1200x600 with 1 Axes>"
      ]
     },
     "metadata": {},
     "output_type": "display_data"
    }
   ],
   "source": [
    "plt.figure(figsize=(12,6))\n",
    "plt.pie(country_count, labels=country_count.index, autopct='%1.1f%%', startangle=140)\n",
    "plt.title('Country Distribution')\n",
    "plt.axis('equal')\n",
    "plt.show()"
   ]
  },
  {
   "cell_type": "markdown",
   "id": "6b6bd5b5",
   "metadata": {},
   "source": [
    "Inference \n",
    "\n",
    "Patient come from 10 different countries with Australia being the most represented (5092 patients)\n",
    "This diversity enables cross-country camparison of cancer outcomes and treatment economic .  \n"
   ]
  },
  {
   "cell_type": "markdown",
   "id": "4b64ccee",
   "metadata": {},
   "source": [
    "### Cancer Type Column "
   ]
  },
  {
   "cell_type": "code",
   "execution_count": 31,
   "id": "00ce9d19",
   "metadata": {},
   "outputs": [
    {
     "data": {
      "text/plain": [
       "Cancer_Type\n",
       "Colon       6376\n",
       "Prostate    6308\n",
       "Leukemia    6266\n",
       "Liver       6249\n",
       "Skin        6231\n",
       "Cervical    6222\n",
       "Breast      6189\n",
       "Lung        6159\n",
       "Name: count, dtype: int64"
      ]
     },
     "execution_count": 31,
     "metadata": {},
     "output_type": "execute_result"
    }
   ],
   "source": [
    "data['Cancer_Type'].value_counts()"
   ]
  },
  {
   "cell_type": "code",
   "execution_count": 33,
   "id": "271788c5",
   "metadata": {},
   "outputs": [
    {
     "data": {
      "image/png": "[encoded data removed]",
      "text/plain": [
       "<Figure size 640x480 with 1 Axes>"
      ]
     },
     "metadata": {},
     "output_type": "display_data"
    }
   ],
   "source": [
    "sns.barplot(x=data['Cancer_Type'].value_counts().index, y=data['Cancer_Type'].value_counts().values, palette='viridis')\n",
    "\n",
    "for i, v in enumerate(data['Cancer_Type'].value_counts()):\n",
    "    plt.text(i, v + 5, str(v), ha='center', va='bottom')\n",
    "plt.title('Cancer Type Distribution')\n",
    "plt.xlabel('Cancer Type')\n",
    "plt.ylabel('Count')\n",
    "plt.xticks(rotation=45)\n",
    "plt.show()"
   ]
  },
  {
   "cell_type": "markdown",
   "id": "103e6e96",
   "metadata": {},
   "source": [
    "inference \n",
    "\n",
    "we have in ttoal 8 types of cancer , with each cancer having approx same number of data pointd \n",
    "under the label , most common cancers are colon followed by Prostate cancer . "
   ]
  },
  {
   "cell_type": "markdown",
   "id": "7d81c774",
   "metadata": {},
   "source": [
    "### Cancer Stage"
   ]
  },
  {
   "cell_type": "code",
   "execution_count": 34,
   "id": "5ce8268e",
   "metadata": {},
   "outputs": [
    {
     "data": {
      "image/png": "[encoded data removed]",
      "text/plain": [
       "<Figure size 640x480 with 1 Axes>"
      ]
     },
     "metadata": {},
     "output_type": "display_data"
    }
   ],
   "source": [
    "sns.barplot(x=data['Cancer_Stage'].value_counts().index, y=data['Cancer_Stage'].value_counts().values, palette='viridis')\n",
    "\n",
    "for i, v in enumerate(data['Cancer_Stage'].value_counts()):\n",
    "    plt.text(i, v + 5, str(v), ha='center', va='bottom')\n",
    "plt.title('Cancer Stage Distribution')\n",
    "plt.xlabel('Cancer Stage')\n",
    "plt.ylabel('Count')\n",
    "plt.xticks(rotation=45)\n",
    "plt.show()"
   ]
  },
  {
   "cell_type": "markdown",
   "id": "ee4a2639",
   "metadata": {},
   "source": [
    "Inference \n",
    "\n",
    "This column is ordinal as there are five stages in cancer where 4 is the most lethal \n",
    "values ranging from 0 to 4 with stage 2 being the most common one and each stage almost have same \n",
    "number of data points "
   ]
  },
  {
   "cell_type": "markdown",
   "id": "1657ebc5",
   "metadata": {},
   "source": [
    "### Treatment_Cost_USD"
   ]
  },
  {
   "cell_type": "code",
   "execution_count": 35,
   "id": "3d60ada1",
   "metadata": {},
   "outputs": [
    {
     "data": {
      "text/plain": [
       "0        62913.44\n",
       "1        12573.41\n",
       "2         6984.33\n",
       "3        67446.25\n",
       "4        77977.12\n",
       "           ...   \n",
       "49995    71463.70\n",
       "49996    49619.66\n",
       "49997     5338.25\n",
       "49998    45100.47\n",
       "49999    64023.82\n",
       "Name: Treatment_Cost_USD, Length: 50000, dtype: float64"
      ]
     },
     "execution_count": 35,
     "metadata": {},
     "output_type": "execute_result"
    }
   ],
   "source": [
    "data['Treatment_Cost_USD']"
   ]
  },
  {
   "cell_type": "code",
   "execution_count": 36,
   "id": "338288bb",
   "metadata": {},
   "outputs": [
    {
     "data": {
      "image/png": "[encoded data removed]",
      "text/plain": [
       "<Figure size 1000x400 with 2 Axes>"
      ]
     },
     "metadata": {},
     "output_type": "display_data"
    }
   ],
   "source": [
    "plt.figure(figsize=(10,4)) \n",
    "\n",
    "plt.subplot(1,2,1)\n",
    "sns.kdeplot(data['Treatment_Cost_USD'], fill=True , color ='lightgreen')\n",
    "plt.title('KDE Treatment_Cost_USD')\n",
    "\n",
    "\n",
    "plt.subplot(1,2,2)\n",
    "sns.histplot(data['Treatment_Cost_USD'],fill=True, color = \"cyan\")\n",
    "plt.title('Histogram Treatment_Cost_USD')\n",
    "\n",
    "plt.show()"
   ]
  },
  {
   "cell_type": "code",
   "execution_count": 37,
   "id": "979a1a3a",
   "metadata": {},
   "outputs": [
    {
     "data": {
      "text/plain": [
       "count    50000.000000\n",
       "mean     52467.298239\n",
       "std      27363.229379\n",
       "min       5000.050000\n",
       "25%      28686.225000\n",
       "50%      52474.310000\n",
       "75%      76232.720000\n",
       "max      99999.840000\n",
       "Name: Treatment_Cost_USD, dtype: float64"
      ]
     },
     "execution_count": 37,
     "metadata": {},
     "output_type": "execute_result"
    }
   ],
   "source": [
    "data['Treatment_Cost_USD'].describe()"
   ]
  },
  {
   "cell_type": "code",
   "execution_count": 38,
   "id": "94734ed6",
   "metadata": {},
   "outputs": [
    {
     "data": {
      "text/plain": [
       "0.004063624207520141"
      ]
     },
     "execution_count": 38,
     "metadata": {},
     "output_type": "execute_result"
    }
   ],
   "source": [
    "data['Treatment_Cost_USD'].skew()"
   ]
  },
  {
   "cell_type": "markdown",
   "id": "e18238c7",
   "metadata": {},
   "source": [
    "### Analyzing the Risk Factors"
   ]
  },
  {
   "cell_type": "code",
   "execution_count": 39,
   "id": "4e4e81b4",
   "metadata": {},
   "outputs": [
    {
     "data": {
      "text/plain": [
       "Index(['Patient_ID', 'Age', 'Gender', 'Country_Region', 'Year', 'Genetic_Risk',\n",
       "       'Air_Pollution', 'Alcohol_Use', 'Smoking', 'Obesity_Level',\n",
       "       'Cancer_Type', 'Cancer_Stage', 'Treatment_Cost_USD', 'Survival_Years',\n",
       "       'Target_Severity_Score'],\n",
       "      dtype='object')"
      ]
     },
     "execution_count": 39,
     "metadata": {},
     "output_type": "execute_result"
    }
   ],
   "source": [
    "data.columns"
   ]
  },
  {
   "cell_type": "code",
   "execution_count": 40,
   "id": "30206ec8",
   "metadata": {},
   "outputs": [],
   "source": [
    "columns_of_interest = ['Genetic_Risk',\n",
    "       'Air_Pollution', 'Alcohol_Use', 'Smoking', 'Obesity_Level']"
   ]
  },
  {
   "cell_type": "code",
   "execution_count": 41,
   "id": "3ea36755",
   "metadata": {},
   "outputs": [],
   "source": [
    "data_filtered = data[columns_of_interest]"
   ]
  },
  {
   "cell_type": "code",
   "execution_count": 42,
   "id": "1c9ed8dd",
   "metadata": {},
   "outputs": [
    {
     "data": {
      "text/html": [
       "<div>\n",
       "<style scoped>\n",
       "    .dataframe tbody tr th:only-of-type {\n",
       "        vertical-align: middle;\n",
       "    }\n",
       "\n",
       "    .dataframe tbody tr th {\n",
       "        vertical-align: top;\n",
       "    }\n",
       "\n",
       "    .dataframe thead th {\n",
       "        text-align: right;\n",
       "    }\n",
       "</style>\n",
       "<table border=\"1\" class=\"dataframe\">\n",
       "  <thead>\n",
       "    <tr style=\"text-align: right;\">\n",
       "      <th></th>\n",
       "      <th>Genetic_Risk</th>\n",
       "      <th>Air_Pollution</th>\n",
       "      <th>Alcohol_Use</th>\n",
       "      <th>Smoking</th>\n",
       "      <th>Obesity_Level</th>\n",
       "    </tr>\n",
       "  </thead>\n",
       "  <tbody>\n",
       "    <tr>\n",
       "      <th>0</th>\n",
       "      <td>6.4</td>\n",
       "      <td>2.8</td>\n",
       "      <td>9.5</td>\n",
       "      <td>0.9</td>\n",
       "      <td>8.7</td>\n",
       "    </tr>\n",
       "    <tr>\n",
       "      <th>1</th>\n",
       "      <td>1.3</td>\n",
       "      <td>4.5</td>\n",
       "      <td>3.7</td>\n",
       "      <td>3.9</td>\n",
       "      <td>6.3</td>\n",
       "    </tr>\n",
       "    <tr>\n",
       "      <th>2</th>\n",
       "      <td>7.4</td>\n",
       "      <td>7.9</td>\n",
       "      <td>2.4</td>\n",
       "      <td>4.7</td>\n",
       "      <td>0.1</td>\n",
       "    </tr>\n",
       "    <tr>\n",
       "      <th>3</th>\n",
       "      <td>1.7</td>\n",
       "      <td>2.9</td>\n",
       "      <td>4.8</td>\n",
       "      <td>3.5</td>\n",
       "      <td>2.7</td>\n",
       "    </tr>\n",
       "    <tr>\n",
       "      <th>4</th>\n",
       "      <td>5.1</td>\n",
       "      <td>2.8</td>\n",
       "      <td>2.3</td>\n",
       "      <td>6.7</td>\n",
       "      <td>0.5</td>\n",
       "    </tr>\n",
       "  </tbody>\n",
       "</table>\n",
       "</div>"
      ],
      "text/plain": [
       "   Genetic_Risk  Air_Pollution  Alcohol_Use  Smoking  Obesity_Level\n",
       "0           6.4            2.8          9.5      0.9            8.7\n",
       "1           1.3            4.5          3.7      3.9            6.3\n",
       "2           7.4            7.9          2.4      4.7            0.1\n",
       "3           1.7            2.9          4.8      3.5            2.7\n",
       "4           5.1            2.8          2.3      6.7            0.5"
      ]
     },
     "execution_count": 42,
     "metadata": {},
     "output_type": "execute_result"
    }
   ],
   "source": [
    "data_filtered.head()"
   ]
  },
  {
   "cell_type": "code",
   "execution_count": 43,
   "id": "f56be092",
   "metadata": {},
   "outputs": [
    {
     "data": {
      "text/html": [
       "<div>\n",
       "<style scoped>\n",
       "    .dataframe tbody tr th:only-of-type {\n",
       "        vertical-align: middle;\n",
       "    }\n",
       "\n",
       "    .dataframe tbody tr th {\n",
       "        vertical-align: top;\n",
       "    }\n",
       "\n",
       "    .dataframe thead th {\n",
       "        text-align: right;\n",
       "    }\n",
       "</style>\n",
       "<table border=\"1\" class=\"dataframe\">\n",
       "  <thead>\n",
       "    <tr style=\"text-align: right;\">\n",
       "      <th></th>\n",
       "      <th>Genetic_Risk</th>\n",
       "      <th>Air_Pollution</th>\n",
       "      <th>Alcohol_Use</th>\n",
       "      <th>Smoking</th>\n",
       "      <th>Obesity_Level</th>\n",
       "    </tr>\n",
       "  </thead>\n",
       "  <tbody>\n",
       "    <tr>\n",
       "      <th>count</th>\n",
       "      <td>50000.000000</td>\n",
       "      <td>50000.000000</td>\n",
       "      <td>50000.000000</td>\n",
       "      <td>50000.000000</td>\n",
       "      <td>50000.000000</td>\n",
       "    </tr>\n",
       "    <tr>\n",
       "      <th>mean</th>\n",
       "      <td>5.001698</td>\n",
       "      <td>5.010126</td>\n",
       "      <td>5.010880</td>\n",
       "      <td>4.989826</td>\n",
       "      <td>4.991176</td>\n",
       "    </tr>\n",
       "    <tr>\n",
       "      <th>std</th>\n",
       "      <td>2.885773</td>\n",
       "      <td>2.888399</td>\n",
       "      <td>2.888769</td>\n",
       "      <td>2.881579</td>\n",
       "      <td>2.894504</td>\n",
       "    </tr>\n",
       "    <tr>\n",
       "      <th>min</th>\n",
       "      <td>0.000000</td>\n",
       "      <td>0.000000</td>\n",
       "      <td>0.000000</td>\n",
       "      <td>0.000000</td>\n",
       "      <td>0.000000</td>\n",
       "    </tr>\n",
       "    <tr>\n",
       "      <th>25%</th>\n",
       "      <td>2.500000</td>\n",
       "      <td>2.500000</td>\n",
       "      <td>2.500000</td>\n",
       "      <td>2.500000</td>\n",
       "      <td>2.500000</td>\n",
       "    </tr>\n",
       "    <tr>\n",
       "      <th>50%</th>\n",
       "      <td>5.000000</td>\n",
       "      <td>5.000000</td>\n",
       "      <td>5.000000</td>\n",
       "      <td>5.000000</td>\n",
       "      <td>5.000000</td>\n",
       "    </tr>\n",
       "    <tr>\n",
       "      <th>75%</th>\n",
       "      <td>7.500000</td>\n",
       "      <td>7.500000</td>\n",
       "      <td>7.500000</td>\n",
       "      <td>7.500000</td>\n",
       "      <td>7.500000</td>\n",
       "    </tr>\n",
       "    <tr>\n",
       "      <th>max</th>\n",
       "      <td>10.000000</td>\n",
       "      <td>10.000000</td>\n",
       "      <td>10.000000</td>\n",
       "      <td>10.000000</td>\n",
       "      <td>10.000000</td>\n",
       "    </tr>\n",
       "  </tbody>\n",
       "</table>\n",
       "</div>"
      ],
      "text/plain": [
       "       Genetic_Risk  Air_Pollution   Alcohol_Use       Smoking  Obesity_Level\n",
       "count  50000.000000   50000.000000  50000.000000  50000.000000   50000.000000\n",
       "mean       5.001698       5.010126      5.010880      4.989826       4.991176\n",
       "std        2.885773       2.888399      2.888769      2.881579       2.894504\n",
       "min        0.000000       0.000000      0.000000      0.000000       0.000000\n",
       "25%        2.500000       2.500000      2.500000      2.500000       2.500000\n",
       "50%        5.000000       5.000000      5.000000      5.000000       5.000000\n",
       "75%        7.500000       7.500000      7.500000      7.500000       7.500000\n",
       "max       10.000000      10.000000     10.000000     10.000000      10.000000"
      ]
     },
     "execution_count": 43,
     "metadata": {},
     "output_type": "execute_result"
    }
   ],
   "source": [
    "data_filtered.describe()"
   ]
  },
  {
   "cell_type": "markdown",
   "id": "2d9f315a",
   "metadata": {},
   "source": [
    "Inference \n",
    "\n",
    "These variables have nearly identical means and std , indicating they were likely designed on the same standardized scale . They are essential in studying interaction effects (Eg genetic risk x smoking ) on survival"
   ]
  },
  {
   "cell_type": "markdown",
   "id": "bd972a05",
   "metadata": {},
   "source": [
    "##  Determine the relationship between risk factors and cancer severity"
   ]
  },
  {
   "cell_type": "code",
   "execution_count": 45,
   "id": "77b35765",
   "metadata": {},
   "outputs": [],
   "source": [
    "risk_factors = ['Genetic_Risk',\n",
    "       'Air_Pollution', 'Alcohol_Use', 'Smoking', 'Obesity_Level']"
   ]
  },
  {
   "cell_type": "code",
   "execution_count": 58,
   "id": "0bae0768",
   "metadata": {},
   "outputs": [
    {
     "data": {
      "image/png": "[encoded data removed]",
      "text/plain": [
       "<Figure size 640x480 with 5 Axes>"
      ]
     },
     "metadata": {},
     "output_type": "display_data"
    }
   ],
   "source": [
    "from scipy.stats import linregress\n",
    "\n",
    "titles = ['Genetic_Risk','Air_Pollution', 'Alcohol_Use', 'Smoking', 'Obesity_Level']\n",
    "colors = ['#1f77b4', '#ff7f0e', '#2ca02c', '#d62728', '#9467bd']\n",
    "\n",
    "\n",
    "for i , (factor, title, color) in enumerate(zip(risk_factors, titles , colors),1):\n",
    "    plt.subplot(2,3,i)\n",
    "    x= data[factor]\n",
    "    y = data['Target_Severity_Score']\n",
    "    slope ,intercept, r_value,p_value , std_err = linregress(x,y)\n",
    "    r_squared = r_value**2\n",
    "    sns.lineplot(x=factor, y=\"Target_Severity_Score\", data=data, color=color)\n",
    "    plt.plot(x,x*slope+intercept, color=\"black\", linewidth=2, label=\"Regression Line\")\n",
    "    plt.title(f\"{title} vs Severity Score\")\n",
    "    plt.text(0.05, 0.9, f\"R² = {r_squared:.3f}\\nSlope = {slope:.3f}\",\n",
    "         transform=plt.gca().transAxes, fontsize=9,\n",
    "         verticalalignment='top', bbox=dict(facecolor='white', alpha=0.6))\n",
    "    plt.xlabel(factor)\n",
    "    plt.ylabel(\"Target Severity Score\")\n",
    "    # plt.legend()\n",
    "\n",
    "\n",
    "\n",
    "plt.tight_layout()\n",
    "plt.show()\n",
    "\n",
    "\n",
    "\n"
   ]
  },
  {
   "cell_type": "code",
   "execution_count": 49,
   "id": "96c90fa4",
   "metadata": {},
   "outputs": [
    {
     "name": "stdout",
     "output_type": "stream",
     "text": [
      "Processing Genetic_Risk with color #1f77b4 0\n",
      "Processing Air_Pollution with color #ff7f0e 1\n",
      "Processing Alcohol_Use with color #2ca02c 2\n",
      "Processing Smoking with color #d62728 3\n",
      "Processing Obesity_Level with color #9467bd 4\n"
     ]
    }
   ],
   "source": [
    "for i , (factor, title, color) in enumerate(zip(risk_factors, titles , colors)):\n",
    "    print(f\"Processing {title} with color {color} {i}\")"
   ]
  },
  {
   "cell_type": "code",
   "execution_count": 50,
   "id": "15b22a38",
   "metadata": {},
   "outputs": [
    {
     "name": "stdout",
     "output_type": "stream",
     "text": [
      "Processing Genetic_Risk with color #1f77b4 1\n",
      "Processing Air_Pollution with color #ff7f0e 2\n",
      "Processing Alcohol_Use with color #2ca02c 3\n",
      "Processing Smoking with color #d62728 4\n",
      "Processing Obesity_Level with color #9467bd 5\n"
     ]
    }
   ],
   "source": [
    "for i , (factor, title, color) in enumerate(zip(risk_factors, titles , colors),1):\n",
    "    print(f\"Processing {title} with color {color} {i}\")"
   ]
  },
  {
   "cell_type": "markdown",
   "id": "fca1d190",
   "metadata": {},
   "source": [
    "### Analyze the proportion of early-stage diagnoses by cancer type"
   ]
  },
  {
   "cell_type": "code",
   "execution_count": 59,
   "id": "33ae87c0",
   "metadata": {},
   "outputs": [
    {
     "data": {
      "text/plain": [
       "Index(['Patient_ID', 'Age', 'Gender', 'Country_Region', 'Year', 'Genetic_Risk',\n",
       "       'Air_Pollution', 'Alcohol_Use', 'Smoking', 'Obesity_Level',\n",
       "       'Cancer_Type', 'Cancer_Stage', 'Treatment_Cost_USD', 'Survival_Years',\n",
       "       'Target_Severity_Score'],\n",
       "      dtype='object')"
      ]
     },
     "execution_count": 59,
     "metadata": {},
     "output_type": "execute_result"
    }
   ],
   "source": [
    "data.columns"
   ]
  },
  {
   "cell_type": "code",
   "execution_count": 61,
   "id": "60d64119",
   "metadata": {},
   "outputs": [
    {
     "data": {
      "text/plain": [
       "array(['Lung', 'Leukemia', 'Breast', 'Colon', 'Skin', 'Cervical',\n",
       "       'Prostate', 'Liver'], dtype=object)"
      ]
     },
     "execution_count": 61,
     "metadata": {},
     "output_type": "execute_result"
    }
   ],
   "source": [
    "data['Cancer_Type'].unique()"
   ]
  },
  {
   "cell_type": "code",
   "execution_count": 62,
   "id": "831db462",
   "metadata": {},
   "outputs": [
    {
     "data": {
      "text/plain": [
       "array(['Stage III', 'Stage 0', 'Stage II', 'Stage I', 'Stage IV'],\n",
       "      dtype=object)"
      ]
     },
     "execution_count": 62,
     "metadata": {},
     "output_type": "execute_result"
    }
   ],
   "source": [
    "data['Cancer_Stage'].unique()"
   ]
  },
  {
   "cell_type": "code",
   "execution_count": 63,
   "id": "f8202cd6",
   "metadata": {},
   "outputs": [],
   "source": [
    "stage_count = data[data['Cancer_Type'] == 'Lung']['Cancer_Stage'].value_counts()"
   ]
  },
  {
   "cell_type": "code",
   "execution_count": 64,
   "id": "2ff9b2e0",
   "metadata": {},
   "outputs": [
    {
     "data": {
      "text/plain": [
       "Cancer_Stage\n",
       "Stage II     1298\n",
       "Stage IV     1286\n",
       "Stage III    1208\n",
       "Stage 0      1185\n",
       "Stage I      1182\n",
       "Name: count, dtype: int64"
      ]
     },
     "execution_count": 64,
     "metadata": {},
     "output_type": "execute_result"
    }
   ],
   "source": [
    "stage_count"
   ]
  },
  {
   "cell_type": "code",
   "execution_count": 65,
   "id": "68195193",
   "metadata": {},
   "outputs": [],
   "source": [
    "early_stage_sum = stage_count.get(\"Stage 0\",0)+ stage_count.get(\"Stage I\",0)"
   ]
  },
  {
   "cell_type": "code",
   "execution_count": 66,
   "id": "61857da3",
   "metadata": {},
   "outputs": [
    {
     "data": {
      "text/plain": [
       "2367"
      ]
     },
     "execution_count": 66,
     "metadata": {},
     "output_type": "execute_result"
    }
   ],
   "source": [
    "early_stage_sum\n"
   ]
  },
  {
   "cell_type": "code",
   "execution_count": 67,
   "id": "bd8ef3fc",
   "metadata": {},
   "outputs": [],
   "source": [
    "total_stage_count = stage_count.sum()"
   ]
  },
  {
   "cell_type": "code",
   "execution_count": 69,
   "id": "5630f776",
   "metadata": {},
   "outputs": [
    {
     "name": "stdout",
     "output_type": "stream",
     "text": [
      "Proportion of early-stage lung cancer cases: 38.43156356551388%\n"
     ]
    }
   ],
   "source": [
    "proportion = (early_stage_sum / total_stage_count)*100\n",
    "print(f\"Proportion of early-stage lung cancer cases: {proportion}%\")"
   ]
  },
  {
   "cell_type": "code",
   "execution_count": 70,
   "id": "decc21ae",
   "metadata": {},
   "outputs": [
    {
     "name": "stdout",
     "output_type": "stream",
     "text": [
      "Proportion of early-stage Leukemia cases: 39.53080114905841%\n"
     ]
    }
   ],
   "source": [
    "stage_count = data[data['Cancer_Type'] == 'Leukemia']['Cancer_Stage'].value_counts()\n",
    "early_stage_sum = stage_count.get(\"Stage 0\",0)+ stage_count.get(\"Stage I\",0)\n",
    "total_stage_count = stage_count.sum()\n",
    "proportion = (early_stage_sum / total_stage_count)*100\n",
    "print(f\"Proportion of early-stage Leukemia cases: {proportion}%\")"
   ]
  },
  {
   "cell_type": "code",
   "execution_count": 71,
   "id": "6e8f7540",
   "metadata": {},
   "outputs": [
    {
     "name": "stdout",
     "output_type": "stream",
     "text": [
      "Proportion of early-stage Breast cancer cases: 39.47325900791727%\n"
     ]
    }
   ],
   "source": [
    "stage_count = data[data['Cancer_Type'] == 'Breast']['Cancer_Stage'].value_counts()\n",
    "early_stage_sum = stage_count.get(\"Stage 0\",0)+ stage_count.get(\"Stage I\",0)\n",
    "total_stage_count = stage_count.sum()\n",
    "proportion = (early_stage_sum / total_stage_count)*100\n",
    "print(f\"Proportion of early-stage Breast cancer cases: {proportion}%\")"
   ]
  },
  {
   "cell_type": "code",
   "execution_count": 72,
   "id": "24f3d0bf",
   "metadata": {},
   "outputs": [
    {
     "name": "stdout",
     "output_type": "stream",
     "text": [
      "Proportion of early-stage Colon cancer cases: 40.41718946047679%\n"
     ]
    }
   ],
   "source": [
    "stage_count = data[data['Cancer_Type'] == 'Colon']['Cancer_Stage'].value_counts()\n",
    "early_stage_sum = stage_count.get(\"Stage 0\",0)+ stage_count.get(\"Stage I\",0)\n",
    "total_stage_count = stage_count.sum()\n",
    "proportion = (early_stage_sum / total_stage_count)*100\n",
    "print(f\"Proportion of early-stage Colon cancer cases: {proportion}%\")"
   ]
  },
  {
   "cell_type": "code",
   "execution_count": 73,
   "id": "7c4bc144",
   "metadata": {},
   "outputs": [
    {
     "name": "stdout",
     "output_type": "stream",
     "text": [
      "Proportion of early-stage Skin cancer cases: 40.41084898090194%\n"
     ]
    }
   ],
   "source": [
    "stage_count = data[data['Cancer_Type'] == 'Skin']['Cancer_Stage'].value_counts()\n",
    "early_stage_sum = stage_count.get(\"Stage 0\",0)+ stage_count.get(\"Stage I\",0)\n",
    "total_stage_count = stage_count.sum()\n",
    "proportion = (early_stage_sum / total_stage_count)*100\n",
    "print(f\"Proportion of early-stage Skin cancer cases: {proportion}%\")"
   ]
  },
  {
   "cell_type": "code",
   "execution_count": 74,
   "id": "b8f0d8e4",
   "metadata": {},
   "outputs": [
    {
     "name": "stdout",
     "output_type": "stream",
     "text": [
      "Proportion of early-stage Cervical cancer cases: 39.85856637737062%\n"
     ]
    }
   ],
   "source": [
    "stage_count = data[data['Cancer_Type'] == 'Cervical']['Cancer_Stage'].value_counts()\n",
    "early_stage_sum = stage_count.get(\"Stage 0\",0)+ stage_count.get(\"Stage I\",0)\n",
    "total_stage_count = stage_count.sum()\n",
    "proportion = (early_stage_sum / total_stage_count)*100\n",
    "print(f\"Proportion of early-stage Cervical cancer cases: {proportion}%\")"
   ]
  },
  {
   "cell_type": "code",
   "execution_count": 75,
   "id": "7f4da5eb",
   "metadata": {},
   "outputs": [
    {
     "name": "stdout",
     "output_type": "stream",
     "text": [
      "Proportion of early-stage Prostate cancer cases: 40.187064045656314%\n"
     ]
    }
   ],
   "source": [
    "stage_count = data[data['Cancer_Type'] == 'Prostate']['Cancer_Stage'].value_counts()\n",
    "early_stage_sum = stage_count.get(\"Stage 0\",0)+ stage_count.get(\"Stage I\",0)\n",
    "total_stage_count = stage_count.sum()\n",
    "proportion = (early_stage_sum / total_stage_count)*100\n",
    "print(f\"Proportion of early-stage Prostate cancer cases: {proportion}%\")"
   ]
  },
  {
   "cell_type": "code",
   "execution_count": 76,
   "id": "932c6a9b",
   "metadata": {},
   "outputs": [
    {
     "name": "stdout",
     "output_type": "stream",
     "text": [
      "Proportion of early-stage Liver cancer cases: 40.614498319731155%\n"
     ]
    }
   ],
   "source": [
    "stage_count = data[data['Cancer_Type'] == 'Liver']['Cancer_Stage'].value_counts()\n",
    "early_stage_sum = stage_count.get(\"Stage 0\",0)+ stage_count.get(\"Stage I\",0)\n",
    "total_stage_count = stage_count.sum()\n",
    "proportion = (early_stage_sum / total_stage_count)*100\n",
    "print(f\"Proportion of early-stage Liver cancer cases: {proportion}%\")"
   ]
  },
  {
   "cell_type": "markdown",
   "id": "05969aca",
   "metadata": {},
   "source": [
    "### Identify key predictors of cancer severity and survival years."
   ]
  },
  {
   "cell_type": "code",
   "execution_count": 77,
   "id": "aae15a74",
   "metadata": {},
   "outputs": [],
   "source": [
    "features= [\"Age\", 'Genetic_Risk','Air_Pollution', 'Alcohol_Use', 'Smoking', 'Obesity_Level']\n",
    "targets= [\"Survival_Years\",\"Target_Severity_Score\"]"
   ]
  },
  {
   "cell_type": "code",
   "execution_count": 78,
   "id": "1c885c29",
   "metadata": {},
   "outputs": [
    {
     "data": {
      "text/html": [
       "<div>\n",
       "<style scoped>\n",
       "    .dataframe tbody tr th:only-of-type {\n",
       "        vertical-align: middle;\n",
       "    }\n",
       "\n",
       "    .dataframe tbody tr th {\n",
       "        vertical-align: top;\n",
       "    }\n",
       "\n",
       "    .dataframe thead th {\n",
       "        text-align: right;\n",
       "    }\n",
       "</style>\n",
       "<table border=\"1\" class=\"dataframe\">\n",
       "  <thead>\n",
       "    <tr style=\"text-align: right;\">\n",
       "      <th></th>\n",
       "      <th>Age</th>\n",
       "      <th>Genetic_Risk</th>\n",
       "      <th>Air_Pollution</th>\n",
       "      <th>Alcohol_Use</th>\n",
       "      <th>Smoking</th>\n",
       "      <th>Obesity_Level</th>\n",
       "      <th>Survival_Years</th>\n",
       "      <th>Target_Severity_Score</th>\n",
       "    </tr>\n",
       "  </thead>\n",
       "  <tbody>\n",
       "    <tr>\n",
       "      <th>Age</th>\n",
       "      <td>1.000000</td>\n",
       "      <td>0.002229</td>\n",
       "      <td>0.001101</td>\n",
       "      <td>-0.004130</td>\n",
       "      <td>0.001734</td>\n",
       "      <td>-0.002706</td>\n",
       "      <td>-0.000147</td>\n",
       "      <td>-0.001481</td>\n",
       "    </tr>\n",
       "    <tr>\n",
       "      <th>Genetic_Risk</th>\n",
       "      <td>0.002229</td>\n",
       "      <td>1.000000</td>\n",
       "      <td>-0.004492</td>\n",
       "      <td>-0.002558</td>\n",
       "      <td>-0.003718</td>\n",
       "      <td>0.003522</td>\n",
       "      <td>0.001708</td>\n",
       "      <td>0.478700</td>\n",
       "    </tr>\n",
       "    <tr>\n",
       "      <th>Air_Pollution</th>\n",
       "      <td>0.001101</td>\n",
       "      <td>-0.004492</td>\n",
       "      <td>1.000000</td>\n",
       "      <td>0.003511</td>\n",
       "      <td>0.003549</td>\n",
       "      <td>0.006507</td>\n",
       "      <td>0.000893</td>\n",
       "      <td>0.366963</td>\n",
       "    </tr>\n",
       "    <tr>\n",
       "      <th>Alcohol_Use</th>\n",
       "      <td>-0.004130</td>\n",
       "      <td>-0.002558</td>\n",
       "      <td>0.003511</td>\n",
       "      <td>1.000000</td>\n",
       "      <td>-0.002938</td>\n",
       "      <td>0.007425</td>\n",
       "      <td>-0.000527</td>\n",
       "      <td>0.363250</td>\n",
       "    </tr>\n",
       "    <tr>\n",
       "      <th>Smoking</th>\n",
       "      <td>0.001734</td>\n",
       "      <td>-0.003718</td>\n",
       "      <td>0.003549</td>\n",
       "      <td>-0.002938</td>\n",
       "      <td>1.000000</td>\n",
       "      <td>0.005828</td>\n",
       "      <td>0.001371</td>\n",
       "      <td>0.484420</td>\n",
       "    </tr>\n",
       "    <tr>\n",
       "      <th>Obesity_Level</th>\n",
       "      <td>-0.002706</td>\n",
       "      <td>0.003522</td>\n",
       "      <td>0.006507</td>\n",
       "      <td>0.007425</td>\n",
       "      <td>0.005828</td>\n",
       "      <td>1.000000</td>\n",
       "      <td>0.009771</td>\n",
       "      <td>0.251366</td>\n",
       "    </tr>\n",
       "    <tr>\n",
       "      <th>Survival_Years</th>\n",
       "      <td>-0.000147</td>\n",
       "      <td>0.001708</td>\n",
       "      <td>0.000893</td>\n",
       "      <td>-0.000527</td>\n",
       "      <td>0.001371</td>\n",
       "      <td>0.009771</td>\n",
       "      <td>1.000000</td>\n",
       "      <td>0.004161</td>\n",
       "    </tr>\n",
       "    <tr>\n",
       "      <th>Target_Severity_Score</th>\n",
       "      <td>-0.001481</td>\n",
       "      <td>0.478700</td>\n",
       "      <td>0.366963</td>\n",
       "      <td>0.363250</td>\n",
       "      <td>0.484420</td>\n",
       "      <td>0.251366</td>\n",
       "      <td>0.004161</td>\n",
       "      <td>1.000000</td>\n",
       "    </tr>\n",
       "  </tbody>\n",
       "</table>\n",
       "</div>"
      ],
      "text/plain": [
       "                            Age  Genetic_Risk  Air_Pollution  Alcohol_Use  \\\n",
       "Age                    1.000000      0.002229       0.001101    -0.004130   \n",
       "Genetic_Risk           0.002229      1.000000      -0.004492    -0.002558   \n",
       "Air_Pollution          0.001101     -0.004492       1.000000     0.003511   \n",
       "Alcohol_Use           -0.004130     -0.002558       0.003511     1.000000   \n",
       "Smoking                0.001734     -0.003718       0.003549    -0.002938   \n",
       "Obesity_Level         -0.002706      0.003522       0.006507     0.007425   \n",
       "Survival_Years        -0.000147      0.001708       0.000893    -0.000527   \n",
       "Target_Severity_Score -0.001481      0.478700       0.366963     0.363250   \n",
       "\n",
       "                        Smoking  Obesity_Level  Survival_Years  \\\n",
       "Age                    0.001734      -0.002706       -0.000147   \n",
       "Genetic_Risk          -0.003718       0.003522        0.001708   \n",
       "Air_Pollution          0.003549       0.006507        0.000893   \n",
       "Alcohol_Use           -0.002938       0.007425       -0.000527   \n",
       "Smoking                1.000000       0.005828        0.001371   \n",
       "Obesity_Level          0.005828       1.000000        0.009771   \n",
       "Survival_Years         0.001371       0.009771        1.000000   \n",
       "Target_Severity_Score  0.484420       0.251366        0.004161   \n",
       "\n",
       "                       Target_Severity_Score  \n",
       "Age                                -0.001481  \n",
       "Genetic_Risk                        0.478700  \n",
       "Air_Pollution                       0.366963  \n",
       "Alcohol_Use                         0.363250  \n",
       "Smoking                             0.484420  \n",
       "Obesity_Level                       0.251366  \n",
       "Survival_Years                      0.004161  \n",
       "Target_Severity_Score               1.000000  "
      ]
     },
     "execution_count": 78,
     "metadata": {},
     "output_type": "execute_result"
    }
   ],
   "source": [
    "# correlation \n",
    "\n",
    "pearson_corr = data[features + targets].corr(method='pearson')\n",
    "spearman_corr = data[features + targets].corr(method='spearman')\n",
    "pearson_corr"
   ]
  },
  {
   "cell_type": "code",
   "execution_count": 79,
   "id": "cfc7070a",
   "metadata": {},
   "outputs": [
    {
     "data": {
      "text/html": [
       "<div>\n",
       "<style scoped>\n",
       "    .dataframe tbody tr th:only-of-type {\n",
       "        vertical-align: middle;\n",
       "    }\n",
       "\n",
       "    .dataframe tbody tr th {\n",
       "        vertical-align: top;\n",
       "    }\n",
       "\n",
       "    .dataframe thead th {\n",
       "        text-align: right;\n",
       "    }\n",
       "</style>\n",
       "<table border=\"1\" class=\"dataframe\">\n",
       "  <thead>\n",
       "    <tr style=\"text-align: right;\">\n",
       "      <th></th>\n",
       "      <th>Age</th>\n",
       "      <th>Genetic_Risk</th>\n",
       "      <th>Air_Pollution</th>\n",
       "      <th>Alcohol_Use</th>\n",
       "      <th>Smoking</th>\n",
       "      <th>Obesity_Level</th>\n",
       "      <th>Survival_Years</th>\n",
       "      <th>Target_Severity_Score</th>\n",
       "    </tr>\n",
       "  </thead>\n",
       "  <tbody>\n",
       "    <tr>\n",
       "      <th>Age</th>\n",
       "      <td>1.000000</td>\n",
       "      <td>0.002207</td>\n",
       "      <td>0.001102</td>\n",
       "      <td>-0.004133</td>\n",
       "      <td>0.001692</td>\n",
       "      <td>-0.002732</td>\n",
       "      <td>-0.000149</td>\n",
       "      <td>-0.002076</td>\n",
       "    </tr>\n",
       "    <tr>\n",
       "      <th>Genetic_Risk</th>\n",
       "      <td>0.002207</td>\n",
       "      <td>1.000000</td>\n",
       "      <td>-0.004472</td>\n",
       "      <td>-0.002571</td>\n",
       "      <td>-0.003707</td>\n",
       "      <td>0.003494</td>\n",
       "      <td>0.001684</td>\n",
       "      <td>0.472193</td>\n",
       "    </tr>\n",
       "    <tr>\n",
       "      <th>Air_Pollution</th>\n",
       "      <td>0.001102</td>\n",
       "      <td>-0.004472</td>\n",
       "      <td>1.000000</td>\n",
       "      <td>0.003507</td>\n",
       "      <td>0.003561</td>\n",
       "      <td>0.006496</td>\n",
       "      <td>0.000841</td>\n",
       "      <td>0.357528</td>\n",
       "    </tr>\n",
       "    <tr>\n",
       "      <th>Alcohol_Use</th>\n",
       "      <td>-0.004133</td>\n",
       "      <td>-0.002571</td>\n",
       "      <td>0.003507</td>\n",
       "      <td>1.000000</td>\n",
       "      <td>-0.002904</td>\n",
       "      <td>0.007401</td>\n",
       "      <td>-0.000543</td>\n",
       "      <td>0.354694</td>\n",
       "    </tr>\n",
       "    <tr>\n",
       "      <th>Smoking</th>\n",
       "      <td>0.001692</td>\n",
       "      <td>-0.003707</td>\n",
       "      <td>0.003561</td>\n",
       "      <td>-0.002904</td>\n",
       "      <td>1.000000</td>\n",
       "      <td>0.005838</td>\n",
       "      <td>0.001372</td>\n",
       "      <td>0.477881</td>\n",
       "    </tr>\n",
       "    <tr>\n",
       "      <th>Obesity_Level</th>\n",
       "      <td>-0.002732</td>\n",
       "      <td>0.003494</td>\n",
       "      <td>0.006496</td>\n",
       "      <td>0.007401</td>\n",
       "      <td>0.005838</td>\n",
       "      <td>1.000000</td>\n",
       "      <td>0.009780</td>\n",
       "      <td>0.243152</td>\n",
       "    </tr>\n",
       "    <tr>\n",
       "      <th>Survival_Years</th>\n",
       "      <td>-0.000149</td>\n",
       "      <td>0.001684</td>\n",
       "      <td>0.000841</td>\n",
       "      <td>-0.000543</td>\n",
       "      <td>0.001372</td>\n",
       "      <td>0.009780</td>\n",
       "      <td>1.000000</td>\n",
       "      <td>0.003431</td>\n",
       "    </tr>\n",
       "    <tr>\n",
       "      <th>Target_Severity_Score</th>\n",
       "      <td>-0.002076</td>\n",
       "      <td>0.472193</td>\n",
       "      <td>0.357528</td>\n",
       "      <td>0.354694</td>\n",
       "      <td>0.477881</td>\n",
       "      <td>0.243152</td>\n",
       "      <td>0.003431</td>\n",
       "      <td>1.000000</td>\n",
       "    </tr>\n",
       "  </tbody>\n",
       "</table>\n",
       "</div>"
      ],
      "text/plain": [
       "                            Age  Genetic_Risk  Air_Pollution  Alcohol_Use  \\\n",
       "Age                    1.000000      0.002207       0.001102    -0.004133   \n",
       "Genetic_Risk           0.002207      1.000000      -0.004472    -0.002571   \n",
       "Air_Pollution          0.001102     -0.004472       1.000000     0.003507   \n",
       "Alcohol_Use           -0.004133     -0.002571       0.003507     1.000000   \n",
       "Smoking                0.001692     -0.003707       0.003561    -0.002904   \n",
       "Obesity_Level         -0.002732      0.003494       0.006496     0.007401   \n",
       "Survival_Years        -0.000149      0.001684       0.000841    -0.000543   \n",
       "Target_Severity_Score -0.002076      0.472193       0.357528     0.354694   \n",
       "\n",
       "                        Smoking  Obesity_Level  Survival_Years  \\\n",
       "Age                    0.001692      -0.002732       -0.000149   \n",
       "Genetic_Risk          -0.003707       0.003494        0.001684   \n",
       "Air_Pollution          0.003561       0.006496        0.000841   \n",
       "Alcohol_Use           -0.002904       0.007401       -0.000543   \n",
       "Smoking                1.000000       0.005838        0.001372   \n",
       "Obesity_Level          0.005838       1.000000        0.009780   \n",
       "Survival_Years         0.001372       0.009780        1.000000   \n",
       "Target_Severity_Score  0.477881       0.243152        0.003431   \n",
       "\n",
       "                       Target_Severity_Score  \n",
       "Age                                -0.002076  \n",
       "Genetic_Risk                        0.472193  \n",
       "Air_Pollution                       0.357528  \n",
       "Alcohol_Use                         0.354694  \n",
       "Smoking                             0.477881  \n",
       "Obesity_Level                       0.243152  \n",
       "Survival_Years                      0.003431  \n",
       "Target_Severity_Score               1.000000  "
      ]
     },
     "execution_count": 79,
     "metadata": {},
     "output_type": "execute_result"
    }
   ],
   "source": [
    "spearman_corr"
   ]
  },
  {
   "cell_type": "code",
   "execution_count": 80,
   "id": "5567eab1",
   "metadata": {},
   "outputs": [
    {
     "data": {
      "text/html": [
       "<div>\n",
       "<style scoped>\n",
       "    .dataframe tbody tr th:only-of-type {\n",
       "        vertical-align: middle;\n",
       "    }\n",
       "\n",
       "    .dataframe tbody tr th {\n",
       "        vertical-align: top;\n",
       "    }\n",
       "\n",
       "    .dataframe thead tr th {\n",
       "        text-align: left;\n",
       "    }\n",
       "</style>\n",
       "<table border=\"1\" class=\"dataframe\">\n",
       "  <thead>\n",
       "    <tr>\n",
       "      <th></th>\n",
       "      <th colspan=\"2\" halign=\"left\">Pearson</th>\n",
       "      <th colspan=\"2\" halign=\"left\">Spearman</th>\n",
       "    </tr>\n",
       "    <tr>\n",
       "      <th></th>\n",
       "      <th>Survival_Years</th>\n",
       "      <th>Target_Severity_Score</th>\n",
       "      <th>Survival_Years</th>\n",
       "      <th>Target_Severity_Score</th>\n",
       "    </tr>\n",
       "  </thead>\n",
       "  <tbody>\n",
       "    <tr>\n",
       "      <th>Age</th>\n",
       "      <td>-0.000147</td>\n",
       "      <td>-0.001481</td>\n",
       "      <td>-0.000149</td>\n",
       "      <td>-0.002076</td>\n",
       "    </tr>\n",
       "    <tr>\n",
       "      <th>Genetic_Risk</th>\n",
       "      <td>0.001708</td>\n",
       "      <td>0.478700</td>\n",
       "      <td>0.001684</td>\n",
       "      <td>0.472193</td>\n",
       "    </tr>\n",
       "    <tr>\n",
       "      <th>Air_Pollution</th>\n",
       "      <td>0.000893</td>\n",
       "      <td>0.366963</td>\n",
       "      <td>0.000841</td>\n",
       "      <td>0.357528</td>\n",
       "    </tr>\n",
       "    <tr>\n",
       "      <th>Alcohol_Use</th>\n",
       "      <td>-0.000527</td>\n",
       "      <td>0.363250</td>\n",
       "      <td>-0.000543</td>\n",
       "      <td>0.354694</td>\n",
       "    </tr>\n",
       "    <tr>\n",
       "      <th>Smoking</th>\n",
       "      <td>0.001371</td>\n",
       "      <td>0.484420</td>\n",
       "      <td>0.001372</td>\n",
       "      <td>0.477881</td>\n",
       "    </tr>\n",
       "    <tr>\n",
       "      <th>Obesity_Level</th>\n",
       "      <td>0.009771</td>\n",
       "      <td>0.251366</td>\n",
       "      <td>0.009780</td>\n",
       "      <td>0.243152</td>\n",
       "    </tr>\n",
       "    <tr>\n",
       "      <th>Survival_Years</th>\n",
       "      <td>1.000000</td>\n",
       "      <td>0.004161</td>\n",
       "      <td>1.000000</td>\n",
       "      <td>0.003431</td>\n",
       "    </tr>\n",
       "    <tr>\n",
       "      <th>Target_Severity_Score</th>\n",
       "      <td>0.004161</td>\n",
       "      <td>1.000000</td>\n",
       "      <td>0.003431</td>\n",
       "      <td>1.000000</td>\n",
       "    </tr>\n",
       "  </tbody>\n",
       "</table>\n",
       "</div>"
      ],
      "text/plain": [
       "                             Pearson                             Spearman  \\\n",
       "                      Survival_Years Target_Severity_Score Survival_Years   \n",
       "Age                        -0.000147             -0.001481      -0.000149   \n",
       "Genetic_Risk                0.001708              0.478700       0.001684   \n",
       "Air_Pollution               0.000893              0.366963       0.000841   \n",
       "Alcohol_Use                -0.000527              0.363250      -0.000543   \n",
       "Smoking                     0.001371              0.484420       0.001372   \n",
       "Obesity_Level               0.009771              0.251366       0.009780   \n",
       "Survival_Years              1.000000              0.004161       1.000000   \n",
       "Target_Severity_Score       0.004161              1.000000       0.003431   \n",
       "\n",
       "                                             \n",
       "                      Target_Severity_Score  \n",
       "Age                               -0.002076  \n",
       "Genetic_Risk                       0.472193  \n",
       "Air_Pollution                      0.357528  \n",
       "Alcohol_Use                        0.354694  \n",
       "Smoking                            0.477881  \n",
       "Obesity_Level                      0.243152  \n",
       "Survival_Years                     0.003431  \n",
       "Target_Severity_Score              1.000000  "
      ]
     },
     "execution_count": 80,
     "metadata": {},
     "output_type": "execute_result"
    }
   ],
   "source": [
    "# slice out only thr relationship with target variables\n",
    "pearson_results= pearson_corr[targets]\n",
    "spearman_results=spearman_corr[targets]\n",
    "#combine both\n",
    "correlation_df= pd.concat([pearson_results,spearman_results], axis=1, keys=[\"Pearson\",\"Spearman\"])\n",
    "correlation_df"
   ]
  },
  {
   "cell_type": "code",
   "execution_count": 81,
   "id": "0ba0992e",
   "metadata": {},
   "outputs": [],
   "source": [
    "# using random forest for target severity score\n",
    "\n",
    "from sklearn.ensemble import RandomForestRegressor\n",
    "from sklearn.model_selection import train_test_split\n",
    "from sklearn.preprocessing import LabelEncoder\n",
    "from sklearn.metrics import r2_score\n",
    "\n",
    "# converting categorical columns to numerical columns\n",
    "categorical_cols= [\"Gender\",\"Country_Region\",\"Cancer_Type\",\"Cancer_Stage\"]\n",
    "for col in categorical_cols:\n",
    "    le= LabelEncoder()\n",
    "    data[col]=le.fit_transform(data[col])\n",
    "\n",
    "\n",
    "# Preparing X and Y\n",
    "X= data.drop(columns=[\"Patient_ID\",\"Survival_Years\",\"Target_Severity_Score\",\"Treatment_Cost_USD\"])\n",
    "y_severity= data[\"Target_Severity_Score\"] \n",
    "\n",
    "\n",
    "# train test split\n",
    "X_train_s, X_test_s, y_train_s, y_test_s= train_test_split(X, y_severity, test_size=0.2, random_state=40)\n",
    "\n",
    "\n",
    "# train the model\n",
    "model= RandomForestRegressor(n_estimators=200, max_depth= None , min_samples_split=2,min_samples_leaf=1, random_state=40)\n",
    "model.fit(X_train_s, y_train_s) \n",
    "\n",
    "\n",
    "# evalaute the model\n",
    "train_r2_severity= r2_score(y_train_s , model.predict(X_train_s))\n",
    "test_r2_severity= r2_score(y_test_s , model.predict(X_test_s))"
   ]
  },
  {
   "cell_type": "code",
   "execution_count": 82,
   "id": "0d2e6f35",
   "metadata": {},
   "outputs": [
    {
     "name": "stdout",
     "output_type": "stream",
     "text": [
      "0.9689503792116058\n",
      "0.7752278237418935\n"
     ]
    }
   ],
   "source": [
    "print(train_r2_severity)\n",
    "print(test_r2_severity)"
   ]
  },
  {
   "cell_type": "code",
   "execution_count": 83,
   "id": "749ae8e0",
   "metadata": {},
   "outputs": [
    {
     "data": {
      "image/png": "[encoded data removed]",
      "text/plain": [
       "<Figure size 1000x600 with 1 Axes>"
      ]
     },
     "metadata": {},
     "output_type": "display_data"
    }
   ],
   "source": [
    "feature_importance_severity =pd.Series(model.feature_importances_, index=X.columns).sort_values(ascending=False) \n",
    "#plotting of important features\n",
    "plt.figure(figsize=(10,6))\n",
    "feature_importance_severity.plot(kind=\"bar\", color=\"skyblue\")\n",
    "plt.title(\"Feature Importance  for Target Severity Score (Random Forest)\")\n",
    "plt.xlabel(\"Features\")\n",
    "plt.ylabel(\"Importance Score\")\n",
    "plt.xticks(rotation= 45)\n",
    "plt.tight_layout()\n",
    "plt.show()"
   ]
  },
  {
   "cell_type": "code",
   "execution_count": 84,
   "id": "490c2cc3",
   "metadata": {},
   "outputs": [],
   "source": [
    "# using random forest for target severity score\n",
    "\n",
    "from sklearn.ensemble import RandomForestRegressor\n",
    "from sklearn.model_selection import train_test_split\n",
    "from sklearn.preprocessing import LabelEncoder\n",
    "from sklearn.metrics import r2_score\n",
    "\n",
    "# converting categorical columns to numerical columns\n",
    "categorical_cols= [\"Gender\",\"Country_Region\",\"Cancer_Type\",\"Cancer_Stage\"]\n",
    "for col in categorical_cols:\n",
    "    le= LabelEncoder()\n",
    "    data[col]=le.fit_transform(data[col])\n",
    "\n",
    "\n",
    "# Preparing X and Y\n",
    "X= data.drop(columns=[\"Patient_ID\",\"Survival_Years\",\"Target_Severity_Score\",\"Treatment_Cost_USD\"])\n",
    "y_severity= data[\"Survival_Years\"]\n",
    "\n",
    "\n",
    "# train test split\n",
    "X_train_s, X_test_s, y_train_s, y_test_s= train_test_split(X, y_severity, test_size=0.2, random_state=40)\n",
    "\n",
    "\n",
    "# train the model\n",
    "model= RandomForestRegressor(n_estimators=200, max_depth= None , min_samples_split=2,min_samples_leaf=1, random_state=40)\n",
    "model.fit(X_train_s, y_train_s) \n",
    "\n",
    "\n",
    "# evalaute the model\n",
    "train_r2_severity= r2_score(y_train_s , model.predict(X_train_s))\n",
    "test_r2_severity= r2_score(y_test_s , model.predict(X_test_s))"
   ]
  },
  {
   "cell_type": "code",
   "execution_count": 85,
   "id": "1a2009e9",
   "metadata": {},
   "outputs": [
    {
     "name": "stdout",
     "output_type": "stream",
     "text": [
      "0.8596068616548123\n",
      "-0.016789391036591716\n"
     ]
    }
   ],
   "source": [
    "print(train_r2_severity)\n",
    "print(test_r2_severity)"
   ]
  },
  {
   "cell_type": "code",
   "execution_count": 86,
   "id": "f41c7b58",
   "metadata": {},
   "outputs": [
    {
     "data": {
      "image/png": "[encoded data removed]",
      "text/plain": [
       "<Figure size 1000x600 with 1 Axes>"
      ]
     },
     "metadata": {},
     "output_type": "display_data"
    }
   ],
   "source": [
    "feature_importance_severity =pd.Series(model.feature_importances_, index=X.columns).sort_values(ascending=False) \n",
    "#plotting of important features\n",
    "plt.figure(figsize=(10,6))\n",
    "feature_importance_severity.plot(kind=\"bar\", color=\"skyblue\")\n",
    "plt.title(\"Feature Importance  for Survival years (Random Forest)\")\n",
    "plt.xlabel(\"Features\")\n",
    "plt.ylabel(\"Importance Score\")\n",
    "plt.xticks(rotation= 45)\n",
    "plt.tight_layout()\n",
    "plt.show()"
   ]
  },
  {
   "cell_type": "code",
   "execution_count": 88,
   "id": "37a86142",
   "metadata": {},
   "outputs": [],
   "source": [
    "from sklearn.ensemble import RandomForestRegressor\n",
    "from sklearn.model_selection import train_test_split, GridSearchCV\n",
    "from sklearn.preprocessing import LabelEncoder\n",
    "from sklearn.metrics import r2_score\n",
    "\n",
    "# caonveting categorical columns to numerical columns\n",
    "categorical_cols= [\"Gender\",\"Country_Region\",\"Cancer_Type\",\"Cancer_Stage\"]\n",
    "for col in categorical_cols:\n",
    "    le= LabelEncoder()\n",
    "    data[col]=le.fit_transform(data[col])\n",
    "\n",
    "# Preparing  features and input\n",
    "X= data.drop(columns=[\"Patient_ID\",\"Survival_Years\",\"Target_Severity_Score\",\"Treatment_Cost_USD\"])\n",
    "y_severity= data[\"Survival_Years\"]\n",
    "\n",
    "# train test split\n",
    "X_train_s, X_test_s, y_train_s, y_test_s= train_test_split(X, y_severity, test_size=0.2, random_state=40)\n",
    "\n",
    "param_grid = {\n",
    "    'n_estimators': [100, 200],\n",
    "    'max_depth': [5, 10, None],\n",
    "    'min_samples_split': [2, 5],\n",
    "    'min_samples_leaf': [1, 2]\n",
    "}\n",
    "\n",
    "# train the model\n",
    "model= RandomForestRegressor(random_state=40)\n",
    "GSC= GridSearchCV(model , param_grid, cv=3, scoring=\"r2\", n_jobs=-1)\n",
    "GSC.fit(X_train_s, y_train_s)\n",
    "\n",
    "best_rf_severity= GSC.best_estimator_\n",
    "\n",
    "# evalaute the model\n",
    "train_r2_severity= r2_score(y_train_s , best_rf_severity.predict(X_train_s))\n",
    "test_r2_severity= r2_score(y_test_s , best_rf_severity.predict(X_test_s))\n",
    "\n"
   ]
  },
  {
   "cell_type": "code",
   "execution_count": 89,
   "id": "daf11a5f",
   "metadata": {},
   "outputs": [
    {
     "name": "stdout",
     "output_type": "stream",
     "text": [
      "0.008998065861791305\n",
      "-0.0003487352301705382\n"
     ]
    }
   ],
   "source": [
    "print(train_r2_severity)\n",
    "print(test_r2_severity)"
   ]
  },
  {
   "cell_type": "code",
   "execution_count": 90,
   "id": "d329897f",
   "metadata": {},
   "outputs": [
    {
     "data": {
      "text/plain": [
       "<Axes: xlabel='Survival_Years', ylabel='Count'>"
      ]
     },
     "execution_count": 90,
     "metadata": {},
     "output_type": "execute_result"
    },
    {
     "data": {
      "image/png": "[encoded data removed]",
      "text/plain": [
       "<Figure size 640x480 with 1 Axes>"
      ]
     },
     "metadata": {},
     "output_type": "display_data"
    }
   ],
   "source": [
    "import seaborn as sns\n",
    "sns.histplot(data[\"Survival_Years\"], kde=True)"
   ]
  },
  {
   "cell_type": "code",
   "execution_count": 91,
   "id": "afbc2c37",
   "metadata": {},
   "outputs": [
    {
     "data": {
      "text/plain": [
       "Gender                  -0.007121\n",
       "Cancer_Stage            -0.003014\n",
       "Cancer_Type             -0.001717\n",
       "Alcohol_Use             -0.000527\n",
       "Treatment_Cost_USD      -0.000429\n",
       "Age                     -0.000147\n",
       "Year                     0.000018\n",
       "Air_Pollution            0.000893\n",
       "Smoking                  0.001371\n",
       "Genetic_Risk             0.001708\n",
       "Target_Severity_Score    0.004161\n",
       "Country_Region           0.005121\n",
       "Obesity_Level            0.009771\n",
       "Survival_Years           1.000000\n",
       "Name: Survival_Years, dtype: float64"
      ]
     },
     "execution_count": 91,
     "metadata": {},
     "output_type": "execute_result"
    }
   ],
   "source": [
    "data.corr(numeric_only=True)[\"Survival_Years\"].sort_values(ascending=True)"
   ]
  },
  {
   "cell_type": "markdown",
   "id": "c215c748",
   "metadata": {},
   "source": [
    "### Explore the economic burden of cancer treatment across different demographics and countries"
   ]
  },
  {
   "cell_type": "code",
   "execution_count": 92,
   "id": "c9d8970a",
   "metadata": {},
   "outputs": [
    {
     "data": {
      "text/html": [
       "<div>\n",
       "<style scoped>\n",
       "    .dataframe tbody tr th:only-of-type {\n",
       "        vertical-align: middle;\n",
       "    }\n",
       "\n",
       "    .dataframe tbody tr th {\n",
       "        vertical-align: top;\n",
       "    }\n",
       "\n",
       "    .dataframe thead th {\n",
       "        text-align: right;\n",
       "    }\n",
       "</style>\n",
       "<table border=\"1\" class=\"dataframe\">\n",
       "  <thead>\n",
       "    <tr style=\"text-align: right;\">\n",
       "      <th></th>\n",
       "      <th>Patient_ID</th>\n",
       "      <th>Age</th>\n",
       "      <th>Gender</th>\n",
       "      <th>Country_Region</th>\n",
       "      <th>Year</th>\n",
       "      <th>Genetic_Risk</th>\n",
       "      <th>Air_Pollution</th>\n",
       "      <th>Alcohol_Use</th>\n",
       "      <th>Smoking</th>\n",
       "      <th>Obesity_Level</th>\n",
       "      <th>Cancer_Type</th>\n",
       "      <th>Cancer_Stage</th>\n",
       "      <th>Treatment_Cost_USD</th>\n",
       "      <th>Survival_Years</th>\n",
       "      <th>Target_Severity_Score</th>\n",
       "    </tr>\n",
       "  </thead>\n",
       "  <tbody>\n",
       "    <tr>\n",
       "      <th>0</th>\n",
       "      <td>PT0000000</td>\n",
       "      <td>71</td>\n",
       "      <td>1</td>\n",
       "      <td>8</td>\n",
       "      <td>2021</td>\n",
       "      <td>6.4</td>\n",
       "      <td>2.8</td>\n",
       "      <td>9.5</td>\n",
       "      <td>0.9</td>\n",
       "      <td>8.7</td>\n",
       "      <td>5</td>\n",
       "      <td>3</td>\n",
       "      <td>62913.44</td>\n",
       "      <td>5.9</td>\n",
       "      <td>4.92</td>\n",
       "    </tr>\n",
       "    <tr>\n",
       "      <th>1</th>\n",
       "      <td>PT0000001</td>\n",
       "      <td>34</td>\n",
       "      <td>1</td>\n",
       "      <td>3</td>\n",
       "      <td>2021</td>\n",
       "      <td>1.3</td>\n",
       "      <td>4.5</td>\n",
       "      <td>3.7</td>\n",
       "      <td>3.9</td>\n",
       "      <td>6.3</td>\n",
       "      <td>3</td>\n",
       "      <td>0</td>\n",
       "      <td>12573.41</td>\n",
       "      <td>4.7</td>\n",
       "      <td>4.65</td>\n",
       "    </tr>\n",
       "    <tr>\n",
       "      <th>2</th>\n",
       "      <td>PT0000002</td>\n",
       "      <td>80</td>\n",
       "      <td>1</td>\n",
       "      <td>6</td>\n",
       "      <td>2023</td>\n",
       "      <td>7.4</td>\n",
       "      <td>7.9</td>\n",
       "      <td>2.4</td>\n",
       "      <td>4.7</td>\n",
       "      <td>0.1</td>\n",
       "      <td>0</td>\n",
       "      <td>2</td>\n",
       "      <td>6984.33</td>\n",
       "      <td>7.1</td>\n",
       "      <td>5.84</td>\n",
       "    </tr>\n",
       "    <tr>\n",
       "      <th>3</th>\n",
       "      <td>PT0000003</td>\n",
       "      <td>40</td>\n",
       "      <td>1</td>\n",
       "      <td>8</td>\n",
       "      <td>2015</td>\n",
       "      <td>1.7</td>\n",
       "      <td>2.9</td>\n",
       "      <td>4.8</td>\n",
       "      <td>3.5</td>\n",
       "      <td>2.7</td>\n",
       "      <td>2</td>\n",
       "      <td>1</td>\n",
       "      <td>67446.25</td>\n",
       "      <td>1.6</td>\n",
       "      <td>3.12</td>\n",
       "    </tr>\n",
       "    <tr>\n",
       "      <th>4</th>\n",
       "      <td>PT0000004</td>\n",
       "      <td>43</td>\n",
       "      <td>0</td>\n",
       "      <td>1</td>\n",
       "      <td>2017</td>\n",
       "      <td>5.1</td>\n",
       "      <td>2.8</td>\n",
       "      <td>2.3</td>\n",
       "      <td>6.7</td>\n",
       "      <td>0.5</td>\n",
       "      <td>7</td>\n",
       "      <td>3</td>\n",
       "      <td>77977.12</td>\n",
       "      <td>2.9</td>\n",
       "      <td>3.62</td>\n",
       "    </tr>\n",
       "  </tbody>\n",
       "</table>\n",
       "</div>"
      ],
      "text/plain": [
       "  Patient_ID  Age  Gender  Country_Region  Year  Genetic_Risk  Air_Pollution  \\\n",
       "0  PT0000000   71       1               8  2021           6.4            2.8   \n",
       "1  PT0000001   34       1               3  2021           1.3            4.5   \n",
       "2  PT0000002   80       1               6  2023           7.4            7.9   \n",
       "3  PT0000003   40       1               8  2015           1.7            2.9   \n",
       "4  PT0000004   43       0               1  2017           5.1            2.8   \n",
       "\n",
       "   Alcohol_Use  Smoking  Obesity_Level  Cancer_Type  Cancer_Stage  \\\n",
       "0          9.5      0.9            8.7            5             3   \n",
       "1          3.7      3.9            6.3            3             0   \n",
       "2          2.4      4.7            0.1            0             2   \n",
       "3          4.8      3.5            2.7            2             1   \n",
       "4          2.3      6.7            0.5            7             3   \n",
       "\n",
       "   Treatment_Cost_USD  Survival_Years  Target_Severity_Score  \n",
       "0            62913.44             5.9                   4.92  \n",
       "1            12573.41             4.7                   4.65  \n",
       "2             6984.33             7.1                   5.84  \n",
       "3            67446.25             1.6                   3.12  \n",
       "4            77977.12             2.9                   3.62  "
      ]
     },
     "execution_count": 92,
     "metadata": {},
     "output_type": "execute_result"
    }
   ],
   "source": [
    "data.head()"
   ]
  },
  {
   "cell_type": "code",
   "execution_count": 93,
   "id": "1f74c740",
   "metadata": {},
   "outputs": [
    {
     "data": {
      "text/html": [
       "<div>\n",
       "<style scoped>\n",
       "    .dataframe tbody tr th:only-of-type {\n",
       "        vertical-align: middle;\n",
       "    }\n",
       "\n",
       "    .dataframe tbody tr th {\n",
       "        vertical-align: top;\n",
       "    }\n",
       "\n",
       "    .dataframe thead th {\n",
       "        text-align: right;\n",
       "    }\n",
       "</style>\n",
       "<table border=\"1\" class=\"dataframe\">\n",
       "  <thead>\n",
       "    <tr style=\"text-align: right;\">\n",
       "      <th></th>\n",
       "      <th>Patient_ID</th>\n",
       "      <th>Age</th>\n",
       "      <th>Gender</th>\n",
       "      <th>Country_Region</th>\n",
       "      <th>Year</th>\n",
       "      <th>Genetic_Risk</th>\n",
       "      <th>Air_Pollution</th>\n",
       "      <th>Alcohol_Use</th>\n",
       "      <th>Smoking</th>\n",
       "      <th>Obesity_Level</th>\n",
       "      <th>Cancer_Type</th>\n",
       "      <th>Cancer_Stage</th>\n",
       "      <th>Treatment_Cost_USD</th>\n",
       "      <th>Survival_Years</th>\n",
       "      <th>Target_Severity_Score</th>\n",
       "    </tr>\n",
       "  </thead>\n",
       "  <tbody>\n",
       "    <tr>\n",
       "      <th>0</th>\n",
       "      <td>PT0000000</td>\n",
       "      <td>71</td>\n",
       "      <td>Male</td>\n",
       "      <td>UK</td>\n",
       "      <td>2021</td>\n",
       "      <td>6.4</td>\n",
       "      <td>2.8</td>\n",
       "      <td>9.5</td>\n",
       "      <td>0.9</td>\n",
       "      <td>8.7</td>\n",
       "      <td>Lung</td>\n",
       "      <td>Stage III</td>\n",
       "      <td>62913.44</td>\n",
       "      <td>5.9</td>\n",
       "      <td>4.92</td>\n",
       "    </tr>\n",
       "    <tr>\n",
       "      <th>1</th>\n",
       "      <td>PT0000001</td>\n",
       "      <td>34</td>\n",
       "      <td>Male</td>\n",
       "      <td>China</td>\n",
       "      <td>2021</td>\n",
       "      <td>1.3</td>\n",
       "      <td>4.5</td>\n",
       "      <td>3.7</td>\n",
       "      <td>3.9</td>\n",
       "      <td>6.3</td>\n",
       "      <td>Leukemia</td>\n",
       "      <td>Stage 0</td>\n",
       "      <td>12573.41</td>\n",
       "      <td>4.7</td>\n",
       "      <td>4.65</td>\n",
       "    </tr>\n",
       "    <tr>\n",
       "      <th>2</th>\n",
       "      <td>PT0000002</td>\n",
       "      <td>80</td>\n",
       "      <td>Male</td>\n",
       "      <td>Pakistan</td>\n",
       "      <td>2023</td>\n",
       "      <td>7.4</td>\n",
       "      <td>7.9</td>\n",
       "      <td>2.4</td>\n",
       "      <td>4.7</td>\n",
       "      <td>0.1</td>\n",
       "      <td>Breast</td>\n",
       "      <td>Stage II</td>\n",
       "      <td>6984.33</td>\n",
       "      <td>7.1</td>\n",
       "      <td>5.84</td>\n",
       "    </tr>\n",
       "    <tr>\n",
       "      <th>3</th>\n",
       "      <td>PT0000003</td>\n",
       "      <td>40</td>\n",
       "      <td>Male</td>\n",
       "      <td>UK</td>\n",
       "      <td>2015</td>\n",
       "      <td>1.7</td>\n",
       "      <td>2.9</td>\n",
       "      <td>4.8</td>\n",
       "      <td>3.5</td>\n",
       "      <td>2.7</td>\n",
       "      <td>Colon</td>\n",
       "      <td>Stage I</td>\n",
       "      <td>67446.25</td>\n",
       "      <td>1.6</td>\n",
       "      <td>3.12</td>\n",
       "    </tr>\n",
       "    <tr>\n",
       "      <th>4</th>\n",
       "      <td>PT0000004</td>\n",
       "      <td>43</td>\n",
       "      <td>Female</td>\n",
       "      <td>Brazil</td>\n",
       "      <td>2017</td>\n",
       "      <td>5.1</td>\n",
       "      <td>2.8</td>\n",
       "      <td>2.3</td>\n",
       "      <td>6.7</td>\n",
       "      <td>0.5</td>\n",
       "      <td>Skin</td>\n",
       "      <td>Stage III</td>\n",
       "      <td>77977.12</td>\n",
       "      <td>2.9</td>\n",
       "      <td>3.62</td>\n",
       "    </tr>\n",
       "  </tbody>\n",
       "</table>\n",
       "</div>"
      ],
      "text/plain": [
       "  Patient_ID  Age  Gender Country_Region  Year  Genetic_Risk  Air_Pollution  \\\n",
       "0  PT0000000   71    Male             UK  2021           6.4            2.8   \n",
       "1  PT0000001   34    Male          China  2021           1.3            4.5   \n",
       "2  PT0000002   80    Male       Pakistan  2023           7.4            7.9   \n",
       "3  PT0000003   40    Male             UK  2015           1.7            2.9   \n",
       "4  PT0000004   43  Female         Brazil  2017           5.1            2.8   \n",
       "\n",
       "   Alcohol_Use  Smoking  Obesity_Level Cancer_Type Cancer_Stage  \\\n",
       "0          9.5      0.9            8.7        Lung    Stage III   \n",
       "1          3.7      3.9            6.3    Leukemia      Stage 0   \n",
       "2          2.4      4.7            0.1      Breast     Stage II   \n",
       "3          4.8      3.5            2.7       Colon      Stage I   \n",
       "4          2.3      6.7            0.5        Skin    Stage III   \n",
       "\n",
       "   Treatment_Cost_USD  Survival_Years  Target_Severity_Score  \n",
       "0            62913.44             5.9                   4.92  \n",
       "1            12573.41             4.7                   4.65  \n",
       "2             6984.33             7.1                   5.84  \n",
       "3            67446.25             1.6                   3.12  \n",
       "4            77977.12             2.9                   3.62  "
      ]
     },
     "execution_count": 93,
     "metadata": {},
     "output_type": "execute_result"
    }
   ],
   "source": [
    "data = pd.read_csv('global-cancer-dataset.csv')\n",
    "data.head()"
   ]
  },
  {
   "cell_type": "code",
   "execution_count": 94,
   "id": "c7ee270a",
   "metadata": {},
   "outputs": [],
   "source": [
    "df = data.copy()"
   ]
  },
  {
   "cell_type": "code",
   "execution_count": 95,
   "id": "269ae7e8",
   "metadata": {},
   "outputs": [
    {
     "data": {
      "text/html": [
       "<div>\n",
       "<style scoped>\n",
       "    .dataframe tbody tr th:only-of-type {\n",
       "        vertical-align: middle;\n",
       "    }\n",
       "\n",
       "    .dataframe tbody tr th {\n",
       "        vertical-align: top;\n",
       "    }\n",
       "\n",
       "    .dataframe thead th {\n",
       "        text-align: right;\n",
       "    }\n",
       "</style>\n",
       "<table border=\"1\" class=\"dataframe\">\n",
       "  <thead>\n",
       "    <tr style=\"text-align: right;\">\n",
       "      <th></th>\n",
       "      <th>Country_Region</th>\n",
       "      <th>Gender</th>\n",
       "      <th>Treatment_Cost_USD</th>\n",
       "    </tr>\n",
       "  </thead>\n",
       "  <tbody>\n",
       "    <tr>\n",
       "      <th>0</th>\n",
       "      <td>Australia</td>\n",
       "      <td>Female</td>\n",
       "      <td>52301.781302</td>\n",
       "    </tr>\n",
       "    <tr>\n",
       "      <th>1</th>\n",
       "      <td>Australia</td>\n",
       "      <td>Male</td>\n",
       "      <td>52928.509540</td>\n",
       "    </tr>\n",
       "    <tr>\n",
       "      <th>2</th>\n",
       "      <td>Australia</td>\n",
       "      <td>Other</td>\n",
       "      <td>52629.969316</td>\n",
       "    </tr>\n",
       "    <tr>\n",
       "      <th>3</th>\n",
       "      <td>Brazil</td>\n",
       "      <td>Female</td>\n",
       "      <td>52484.894936</td>\n",
       "    </tr>\n",
       "    <tr>\n",
       "      <th>4</th>\n",
       "      <td>Brazil</td>\n",
       "      <td>Male</td>\n",
       "      <td>52937.613970</td>\n",
       "    </tr>\n",
       "    <tr>\n",
       "      <th>5</th>\n",
       "      <td>Brazil</td>\n",
       "      <td>Other</td>\n",
       "      <td>52186.267723</td>\n",
       "    </tr>\n",
       "    <tr>\n",
       "      <th>6</th>\n",
       "      <td>Canada</td>\n",
       "      <td>Female</td>\n",
       "      <td>52358.507421</td>\n",
       "    </tr>\n",
       "    <tr>\n",
       "      <th>7</th>\n",
       "      <td>Canada</td>\n",
       "      <td>Male</td>\n",
       "      <td>52846.880795</td>\n",
       "    </tr>\n",
       "    <tr>\n",
       "      <th>8</th>\n",
       "      <td>Canada</td>\n",
       "      <td>Other</td>\n",
       "      <td>52559.389020</td>\n",
       "    </tr>\n",
       "    <tr>\n",
       "      <th>9</th>\n",
       "      <td>China</td>\n",
       "      <td>Female</td>\n",
       "      <td>52438.973622</td>\n",
       "    </tr>\n",
       "    <tr>\n",
       "      <th>10</th>\n",
       "      <td>China</td>\n",
       "      <td>Male</td>\n",
       "      <td>53290.243475</td>\n",
       "    </tr>\n",
       "    <tr>\n",
       "      <th>11</th>\n",
       "      <td>China</td>\n",
       "      <td>Other</td>\n",
       "      <td>52946.863209</td>\n",
       "    </tr>\n",
       "    <tr>\n",
       "      <th>12</th>\n",
       "      <td>Germany</td>\n",
       "      <td>Female</td>\n",
       "      <td>52991.791525</td>\n",
       "    </tr>\n",
       "    <tr>\n",
       "      <th>13</th>\n",
       "      <td>Germany</td>\n",
       "      <td>Male</td>\n",
       "      <td>53125.328173</td>\n",
       "    </tr>\n",
       "    <tr>\n",
       "      <th>14</th>\n",
       "      <td>Germany</td>\n",
       "      <td>Other</td>\n",
       "      <td>52194.575080</td>\n",
       "    </tr>\n",
       "    <tr>\n",
       "      <th>15</th>\n",
       "      <td>India</td>\n",
       "      <td>Female</td>\n",
       "      <td>51315.943544</td>\n",
       "    </tr>\n",
       "    <tr>\n",
       "      <th>16</th>\n",
       "      <td>India</td>\n",
       "      <td>Male</td>\n",
       "      <td>52155.770535</td>\n",
       "    </tr>\n",
       "    <tr>\n",
       "      <th>17</th>\n",
       "      <td>India</td>\n",
       "      <td>Other</td>\n",
       "      <td>53387.360713</td>\n",
       "    </tr>\n",
       "    <tr>\n",
       "      <th>18</th>\n",
       "      <td>Pakistan</td>\n",
       "      <td>Female</td>\n",
       "      <td>50597.699461</td>\n",
       "    </tr>\n",
       "    <tr>\n",
       "      <th>19</th>\n",
       "      <td>Pakistan</td>\n",
       "      <td>Male</td>\n",
       "      <td>51588.746532</td>\n",
       "    </tr>\n",
       "    <tr>\n",
       "      <th>20</th>\n",
       "      <td>Pakistan</td>\n",
       "      <td>Other</td>\n",
       "      <td>52538.506615</td>\n",
       "    </tr>\n",
       "    <tr>\n",
       "      <th>21</th>\n",
       "      <td>Russia</td>\n",
       "      <td>Female</td>\n",
       "      <td>51922.260586</td>\n",
       "    </tr>\n",
       "    <tr>\n",
       "      <th>22</th>\n",
       "      <td>Russia</td>\n",
       "      <td>Male</td>\n",
       "      <td>52102.838467</td>\n",
       "    </tr>\n",
       "    <tr>\n",
       "      <th>23</th>\n",
       "      <td>Russia</td>\n",
       "      <td>Other</td>\n",
       "      <td>52935.120461</td>\n",
       "    </tr>\n",
       "    <tr>\n",
       "      <th>24</th>\n",
       "      <td>UK</td>\n",
       "      <td>Female</td>\n",
       "      <td>52512.553349</td>\n",
       "    </tr>\n",
       "    <tr>\n",
       "      <th>25</th>\n",
       "      <td>UK</td>\n",
       "      <td>Male</td>\n",
       "      <td>51650.946254</td>\n",
       "    </tr>\n",
       "    <tr>\n",
       "      <th>26</th>\n",
       "      <td>UK</td>\n",
       "      <td>Other</td>\n",
       "      <td>52455.381201</td>\n",
       "    </tr>\n",
       "    <tr>\n",
       "      <th>27</th>\n",
       "      <td>USA</td>\n",
       "      <td>Female</td>\n",
       "      <td>51999.741523</td>\n",
       "    </tr>\n",
       "    <tr>\n",
       "      <th>28</th>\n",
       "      <td>USA</td>\n",
       "      <td>Male</td>\n",
       "      <td>53009.340980</td>\n",
       "    </tr>\n",
       "    <tr>\n",
       "      <th>29</th>\n",
       "      <td>USA</td>\n",
       "      <td>Other</td>\n",
       "      <td>53632.606459</td>\n",
       "    </tr>\n",
       "  </tbody>\n",
       "</table>\n",
       "</div>"
      ],
      "text/plain": [
       "   Country_Region  Gender  Treatment_Cost_USD\n",
       "0       Australia  Female        52301.781302\n",
       "1       Australia    Male        52928.509540\n",
       "2       Australia   Other        52629.969316\n",
       "3          Brazil  Female        52484.894936\n",
       "4          Brazil    Male        52937.613970\n",
       "5          Brazil   Other        52186.267723\n",
       "6          Canada  Female        52358.507421\n",
       "7          Canada    Male        52846.880795\n",
       "8          Canada   Other        52559.389020\n",
       "9           China  Female        52438.973622\n",
       "10          China    Male        53290.243475\n",
       "11          China   Other        52946.863209\n",
       "12        Germany  Female        52991.791525\n",
       "13        Germany    Male        53125.328173\n",
       "14        Germany   Other        52194.575080\n",
       "15          India  Female        51315.943544\n",
       "16          India    Male        52155.770535\n",
       "17          India   Other        53387.360713\n",
       "18       Pakistan  Female        50597.699461\n",
       "19       Pakistan    Male        51588.746532\n",
       "20       Pakistan   Other        52538.506615\n",
       "21         Russia  Female        51922.260586\n",
       "22         Russia    Male        52102.838467\n",
       "23         Russia   Other        52935.120461\n",
       "24             UK  Female        52512.553349\n",
       "25             UK    Male        51650.946254\n",
       "26             UK   Other        52455.381201\n",
       "27            USA  Female        51999.741523\n",
       "28            USA    Male        53009.340980\n",
       "29            USA   Other        53632.606459"
      ]
     },
     "execution_count": 95,
     "metadata": {},
     "output_type": "execute_result"
    }
   ],
   "source": [
    "df.groupby(['Country_Region','Gender'])['Treatment_Cost_USD'].mean().reset_index()"
   ]
  },
  {
   "cell_type": "code",
   "execution_count": 97,
   "id": "91e63ad4",
   "metadata": {},
   "outputs": [],
   "source": [
    "data['Age_group'] = pd.cut(data['Age'], bins=[0, 30, 45, 60, 75, 90], labels=['0-30', '31-45', '46-60', '61-75', '76-90'])"
   ]
  },
  {
   "cell_type": "code",
   "execution_count": 98,
   "id": "483c220b",
   "metadata": {},
   "outputs": [
    {
     "data": {
      "text/html": [
       "<div>\n",
       "<style scoped>\n",
       "    .dataframe tbody tr th:only-of-type {\n",
       "        vertical-align: middle;\n",
       "    }\n",
       "\n",
       "    .dataframe tbody tr th {\n",
       "        vertical-align: top;\n",
       "    }\n",
       "\n",
       "    .dataframe thead th {\n",
       "        text-align: right;\n",
       "    }\n",
       "</style>\n",
       "<table border=\"1\" class=\"dataframe\">\n",
       "  <thead>\n",
       "    <tr style=\"text-align: right;\">\n",
       "      <th></th>\n",
       "      <th>Patient_ID</th>\n",
       "      <th>Age</th>\n",
       "      <th>Gender</th>\n",
       "      <th>Country_Region</th>\n",
       "      <th>Year</th>\n",
       "      <th>Genetic_Risk</th>\n",
       "      <th>Air_Pollution</th>\n",
       "      <th>Alcohol_Use</th>\n",
       "      <th>Smoking</th>\n",
       "      <th>Obesity_Level</th>\n",
       "      <th>Cancer_Type</th>\n",
       "      <th>Cancer_Stage</th>\n",
       "      <th>Treatment_Cost_USD</th>\n",
       "      <th>Survival_Years</th>\n",
       "      <th>Target_Severity_Score</th>\n",
       "      <th>Age_group</th>\n",
       "    </tr>\n",
       "  </thead>\n",
       "  <tbody>\n",
       "    <tr>\n",
       "      <th>0</th>\n",
       "      <td>PT0000000</td>\n",
       "      <td>71</td>\n",
       "      <td>Male</td>\n",
       "      <td>UK</td>\n",
       "      <td>2021</td>\n",
       "      <td>6.4</td>\n",
       "      <td>2.8</td>\n",
       "      <td>9.5</td>\n",
       "      <td>0.9</td>\n",
       "      <td>8.7</td>\n",
       "      <td>Lung</td>\n",
       "      <td>Stage III</td>\n",
       "      <td>62913.44</td>\n",
       "      <td>5.9</td>\n",
       "      <td>4.92</td>\n",
       "      <td>61-75</td>\n",
       "    </tr>\n",
       "    <tr>\n",
       "      <th>1</th>\n",
       "      <td>PT0000001</td>\n",
       "      <td>34</td>\n",
       "      <td>Male</td>\n",
       "      <td>China</td>\n",
       "      <td>2021</td>\n",
       "      <td>1.3</td>\n",
       "      <td>4.5</td>\n",
       "      <td>3.7</td>\n",
       "      <td>3.9</td>\n",
       "      <td>6.3</td>\n",
       "      <td>Leukemia</td>\n",
       "      <td>Stage 0</td>\n",
       "      <td>12573.41</td>\n",
       "      <td>4.7</td>\n",
       "      <td>4.65</td>\n",
       "      <td>31-45</td>\n",
       "    </tr>\n",
       "    <tr>\n",
       "      <th>2</th>\n",
       "      <td>PT0000002</td>\n",
       "      <td>80</td>\n",
       "      <td>Male</td>\n",
       "      <td>Pakistan</td>\n",
       "      <td>2023</td>\n",
       "      <td>7.4</td>\n",
       "      <td>7.9</td>\n",
       "      <td>2.4</td>\n",
       "      <td>4.7</td>\n",
       "      <td>0.1</td>\n",
       "      <td>Breast</td>\n",
       "      <td>Stage II</td>\n",
       "      <td>6984.33</td>\n",
       "      <td>7.1</td>\n",
       "      <td>5.84</td>\n",
       "      <td>76-90</td>\n",
       "    </tr>\n",
       "    <tr>\n",
       "      <th>3</th>\n",
       "      <td>PT0000003</td>\n",
       "      <td>40</td>\n",
       "      <td>Male</td>\n",
       "      <td>UK</td>\n",
       "      <td>2015</td>\n",
       "      <td>1.7</td>\n",
       "      <td>2.9</td>\n",
       "      <td>4.8</td>\n",
       "      <td>3.5</td>\n",
       "      <td>2.7</td>\n",
       "      <td>Colon</td>\n",
       "      <td>Stage I</td>\n",
       "      <td>67446.25</td>\n",
       "      <td>1.6</td>\n",
       "      <td>3.12</td>\n",
       "      <td>31-45</td>\n",
       "    </tr>\n",
       "    <tr>\n",
       "      <th>4</th>\n",
       "      <td>PT0000004</td>\n",
       "      <td>43</td>\n",
       "      <td>Female</td>\n",
       "      <td>Brazil</td>\n",
       "      <td>2017</td>\n",
       "      <td>5.1</td>\n",
       "      <td>2.8</td>\n",
       "      <td>2.3</td>\n",
       "      <td>6.7</td>\n",
       "      <td>0.5</td>\n",
       "      <td>Skin</td>\n",
       "      <td>Stage III</td>\n",
       "      <td>77977.12</td>\n",
       "      <td>2.9</td>\n",
       "      <td>3.62</td>\n",
       "      <td>31-45</td>\n",
       "    </tr>\n",
       "    <tr>\n",
       "      <th>...</th>\n",
       "      <td>...</td>\n",
       "      <td>...</td>\n",
       "      <td>...</td>\n",
       "      <td>...</td>\n",
       "      <td>...</td>\n",
       "      <td>...</td>\n",
       "      <td>...</td>\n",
       "      <td>...</td>\n",
       "      <td>...</td>\n",
       "      <td>...</td>\n",
       "      <td>...</td>\n",
       "      <td>...</td>\n",
       "      <td>...</td>\n",
       "      <td>...</td>\n",
       "      <td>...</td>\n",
       "      <td>...</td>\n",
       "    </tr>\n",
       "    <tr>\n",
       "      <th>49995</th>\n",
       "      <td>PT0049995</td>\n",
       "      <td>80</td>\n",
       "      <td>Male</td>\n",
       "      <td>Pakistan</td>\n",
       "      <td>2023</td>\n",
       "      <td>2.3</td>\n",
       "      <td>7.5</td>\n",
       "      <td>2.8</td>\n",
       "      <td>3.8</td>\n",
       "      <td>2.9</td>\n",
       "      <td>Leukemia</td>\n",
       "      <td>Stage 0</td>\n",
       "      <td>71463.70</td>\n",
       "      <td>1.0</td>\n",
       "      <td>3.63</td>\n",
       "      <td>76-90</td>\n",
       "    </tr>\n",
       "    <tr>\n",
       "      <th>49996</th>\n",
       "      <td>PT0049996</td>\n",
       "      <td>40</td>\n",
       "      <td>Female</td>\n",
       "      <td>USA</td>\n",
       "      <td>2018</td>\n",
       "      <td>6.4</td>\n",
       "      <td>3.5</td>\n",
       "      <td>2.9</td>\n",
       "      <td>9.0</td>\n",
       "      <td>9.8</td>\n",
       "      <td>Colon</td>\n",
       "      <td>Stage I</td>\n",
       "      <td>49619.66</td>\n",
       "      <td>0.4</td>\n",
       "      <td>6.03</td>\n",
       "      <td>31-45</td>\n",
       "    </tr>\n",
       "    <tr>\n",
       "      <th>49997</th>\n",
       "      <td>PT0049997</td>\n",
       "      <td>74</td>\n",
       "      <td>Male</td>\n",
       "      <td>Pakistan</td>\n",
       "      <td>2015</td>\n",
       "      <td>6.2</td>\n",
       "      <td>1.6</td>\n",
       "      <td>8.7</td>\n",
       "      <td>4.7</td>\n",
       "      <td>4.0</td>\n",
       "      <td>Breast</td>\n",
       "      <td>Stage 0</td>\n",
       "      <td>5338.25</td>\n",
       "      <td>2.7</td>\n",
       "      <td>6.02</td>\n",
       "      <td>61-75</td>\n",
       "    </tr>\n",
       "    <tr>\n",
       "      <th>49998</th>\n",
       "      <td>PT0049998</td>\n",
       "      <td>21</td>\n",
       "      <td>Male</td>\n",
       "      <td>Brazil</td>\n",
       "      <td>2018</td>\n",
       "      <td>4.0</td>\n",
       "      <td>6.5</td>\n",
       "      <td>7.6</td>\n",
       "      <td>8.6</td>\n",
       "      <td>8.1</td>\n",
       "      <td>Liver</td>\n",
       "      <td>Stage IV</td>\n",
       "      <td>45100.47</td>\n",
       "      <td>7.5</td>\n",
       "      <td>6.54</td>\n",
       "      <td>0-30</td>\n",
       "    </tr>\n",
       "    <tr>\n",
       "      <th>49999</th>\n",
       "      <td>PT0049999</td>\n",
       "      <td>22</td>\n",
       "      <td>Male</td>\n",
       "      <td>Pakistan</td>\n",
       "      <td>2023</td>\n",
       "      <td>5.1</td>\n",
       "      <td>9.8</td>\n",
       "      <td>3.2</td>\n",
       "      <td>0.0</td>\n",
       "      <td>0.7</td>\n",
       "      <td>Liver</td>\n",
       "      <td>Stage 0</td>\n",
       "      <td>64023.82</td>\n",
       "      <td>7.4</td>\n",
       "      <td>3.76</td>\n",
       "      <td>0-30</td>\n",
       "    </tr>\n",
       "  </tbody>\n",
       "</table>\n",
       "<p>50000 rows × 16 columns</p>\n",
       "</div>"
      ],
      "text/plain": [
       "      Patient_ID  Age  Gender Country_Region  Year  Genetic_Risk  \\\n",
       "0      PT0000000   71    Male             UK  2021           6.4   \n",
       "1      PT0000001   34    Male          China  2021           1.3   \n",
       "2      PT0000002   80    Male       Pakistan  2023           7.4   \n",
       "3      PT0000003   40    Male             UK  2015           1.7   \n",
       "4      PT0000004   43  Female         Brazil  2017           5.1   \n",
       "...          ...  ...     ...            ...   ...           ...   \n",
       "49995  PT0049995   80    Male       Pakistan  2023           2.3   \n",
       "49996  PT0049996   40  Female            USA  2018           6.4   \n",
       "49997  PT0049997   74    Male       Pakistan  2015           6.2   \n",
       "49998  PT0049998   21    Male         Brazil  2018           4.0   \n",
       "49999  PT0049999   22    Male       Pakistan  2023           5.1   \n",
       "\n",
       "       Air_Pollution  Alcohol_Use  Smoking  Obesity_Level Cancer_Type  \\\n",
       "0                2.8          9.5      0.9            8.7        Lung   \n",
       "1                4.5          3.7      3.9            6.3    Leukemia   \n",
       "2                7.9          2.4      4.7            0.1      Breast   \n",
       "3                2.9          4.8      3.5            2.7       Colon   \n",
       "4                2.8          2.3      6.7            0.5        Skin   \n",
       "...              ...          ...      ...            ...         ...   \n",
       "49995            7.5          2.8      3.8            2.9    Leukemia   \n",
       "49996            3.5          2.9      9.0            9.8       Colon   \n",
       "49997            1.6          8.7      4.7            4.0      Breast   \n",
       "49998            6.5          7.6      8.6            8.1       Liver   \n",
       "49999            9.8          3.2      0.0            0.7       Liver   \n",
       "\n",
       "      Cancer_Stage  Treatment_Cost_USD  Survival_Years  Target_Severity_Score  \\\n",
       "0        Stage III            62913.44             5.9                   4.92   \n",
       "1          Stage 0            12573.41             4.7                   4.65   \n",
       "2         Stage II             6984.33             7.1                   5.84   \n",
       "3          Stage I            67446.25             1.6                   3.12   \n",
       "4        Stage III            77977.12             2.9                   3.62   \n",
       "...            ...                 ...             ...                    ...   \n",
       "49995      Stage 0            71463.70             1.0                   3.63   \n",
       "49996      Stage I            49619.66             0.4                   6.03   \n",
       "49997      Stage 0             5338.25             2.7                   6.02   \n",
       "49998     Stage IV            45100.47             7.5                   6.54   \n",
       "49999      Stage 0            64023.82             7.4                   3.76   \n",
       "\n",
       "      Age_group  \n",
       "0         61-75  \n",
       "1         31-45  \n",
       "2         76-90  \n",
       "3         31-45  \n",
       "4         31-45  \n",
       "...         ...  \n",
       "49995     76-90  \n",
       "49996     31-45  \n",
       "49997     61-75  \n",
       "49998      0-30  \n",
       "49999      0-30  \n",
       "\n",
       "[50000 rows x 16 columns]"
      ]
     },
     "execution_count": 98,
     "metadata": {},
     "output_type": "execute_result"
    }
   ],
   "source": [
    "data"
   ]
  },
  {
   "cell_type": "code",
   "execution_count": null,
   "id": "df9c72e9",
   "metadata": {},
   "outputs": [],
   "source": []
  },
  {
   "cell_type": "code",
   "execution_count": 102,
   "id": "ed4f7dfe",
   "metadata": {},
   "outputs": [],
   "source": [
    "country_agegroup_cost = data.groupby(['Country_Region','Age_group','Gender'])['Treatment_Cost_USD'].mean().reset_index()"
   ]
  },
  {
   "cell_type": "code",
   "execution_count": 103,
   "id": "c662b2f2",
   "metadata": {},
   "outputs": [
    {
     "data": {
      "text/html": [
       "<div>\n",
       "<style scoped>\n",
       "    .dataframe tbody tr th:only-of-type {\n",
       "        vertical-align: middle;\n",
       "    }\n",
       "\n",
       "    .dataframe tbody tr th {\n",
       "        vertical-align: top;\n",
       "    }\n",
       "\n",
       "    .dataframe thead th {\n",
       "        text-align: right;\n",
       "    }\n",
       "</style>\n",
       "<table border=\"1\" class=\"dataframe\">\n",
       "  <thead>\n",
       "    <tr style=\"text-align: right;\">\n",
       "      <th></th>\n",
       "      <th>Country_Region</th>\n",
       "      <th>Age_group</th>\n",
       "      <th>Gender</th>\n",
       "      <th>Treatment_Cost_USD</th>\n",
       "    </tr>\n",
       "  </thead>\n",
       "  <tbody>\n",
       "    <tr>\n",
       "      <th>0</th>\n",
       "      <td>Australia</td>\n",
       "      <td>0-30</td>\n",
       "      <td>Female</td>\n",
       "      <td>53287.701319</td>\n",
       "    </tr>\n",
       "    <tr>\n",
       "      <th>1</th>\n",
       "      <td>Australia</td>\n",
       "      <td>0-30</td>\n",
       "      <td>Male</td>\n",
       "      <td>52939.875035</td>\n",
       "    </tr>\n",
       "    <tr>\n",
       "      <th>2</th>\n",
       "      <td>Australia</td>\n",
       "      <td>0-30</td>\n",
       "      <td>Other</td>\n",
       "      <td>53776.208452</td>\n",
       "    </tr>\n",
       "    <tr>\n",
       "      <th>3</th>\n",
       "      <td>Australia</td>\n",
       "      <td>31-45</td>\n",
       "      <td>Female</td>\n",
       "      <td>51647.694000</td>\n",
       "    </tr>\n",
       "    <tr>\n",
       "      <th>4</th>\n",
       "      <td>Australia</td>\n",
       "      <td>31-45</td>\n",
       "      <td>Male</td>\n",
       "      <td>54212.453438</td>\n",
       "    </tr>\n",
       "    <tr>\n",
       "      <th>...</th>\n",
       "      <td>...</td>\n",
       "      <td>...</td>\n",
       "      <td>...</td>\n",
       "      <td>...</td>\n",
       "    </tr>\n",
       "    <tr>\n",
       "      <th>145</th>\n",
       "      <td>USA</td>\n",
       "      <td>61-75</td>\n",
       "      <td>Male</td>\n",
       "      <td>55381.892304</td>\n",
       "    </tr>\n",
       "    <tr>\n",
       "      <th>146</th>\n",
       "      <td>USA</td>\n",
       "      <td>61-75</td>\n",
       "      <td>Other</td>\n",
       "      <td>52070.474766</td>\n",
       "    </tr>\n",
       "    <tr>\n",
       "      <th>147</th>\n",
       "      <td>USA</td>\n",
       "      <td>76-90</td>\n",
       "      <td>Female</td>\n",
       "      <td>51877.032768</td>\n",
       "    </tr>\n",
       "    <tr>\n",
       "      <th>148</th>\n",
       "      <td>USA</td>\n",
       "      <td>76-90</td>\n",
       "      <td>Male</td>\n",
       "      <td>52445.346342</td>\n",
       "    </tr>\n",
       "    <tr>\n",
       "      <th>149</th>\n",
       "      <td>USA</td>\n",
       "      <td>76-90</td>\n",
       "      <td>Other</td>\n",
       "      <td>55121.609724</td>\n",
       "    </tr>\n",
       "  </tbody>\n",
       "</table>\n",
       "<p>150 rows × 4 columns</p>\n",
       "</div>"
      ],
      "text/plain": [
       "    Country_Region Age_group  Gender  Treatment_Cost_USD\n",
       "0        Australia      0-30  Female        53287.701319\n",
       "1        Australia      0-30    Male        52939.875035\n",
       "2        Australia      0-30   Other        53776.208452\n",
       "3        Australia     31-45  Female        51647.694000\n",
       "4        Australia     31-45    Male        54212.453438\n",
       "..             ...       ...     ...                 ...\n",
       "145            USA     61-75    Male        55381.892304\n",
       "146            USA     61-75   Other        52070.474766\n",
       "147            USA     76-90  Female        51877.032768\n",
       "148            USA     76-90    Male        52445.346342\n",
       "149            USA     76-90   Other        55121.609724\n",
       "\n",
       "[150 rows x 4 columns]"
      ]
     },
     "execution_count": 103,
     "metadata": {},
     "output_type": "execute_result"
    }
   ],
   "source": [
    "country_agegroup_cost"
   ]
  },
  {
   "cell_type": "code",
   "execution_count": 105,
   "id": "0b6f1cc7",
   "metadata": {},
   "outputs": [
    {
     "data": {
      "image/png": "[encoded data removed]",
      "text/plain": [
       "<Figure size 1200x600 with 1 Axes>"
      ]
     },
     "metadata": {},
     "output_type": "display_data"
    }
   ],
   "source": [
    "plt.figure(figsize=(12,6))\n",
    "sns.barplot(data=country_agegroup_cost, x='Country_Region', y='Treatment_Cost_USD', hue='Gender')\n",
    "plt.title(\"Average cancer treatment  cost  by country  and gender\")\n",
    "plt.show()"
   ]
  },
  {
   "cell_type": "code",
   "execution_count": 107,
   "id": "5cb8e3ed",
   "metadata": {},
   "outputs": [
    {
     "data": {
      "text/html": [
       "<div>\n",
       "<style scoped>\n",
       "    .dataframe tbody tr th:only-of-type {\n",
       "        vertical-align: middle;\n",
       "    }\n",
       "\n",
       "    .dataframe tbody tr th {\n",
       "        vertical-align: top;\n",
       "    }\n",
       "\n",
       "    .dataframe thead th {\n",
       "        text-align: right;\n",
       "    }\n",
       "</style>\n",
       "<table border=\"1\" class=\"dataframe\">\n",
       "  <thead>\n",
       "    <tr style=\"text-align: right;\">\n",
       "      <th></th>\n",
       "      <th>Patient_ID</th>\n",
       "      <th>Age</th>\n",
       "      <th>Gender</th>\n",
       "      <th>Country_Region</th>\n",
       "      <th>Year</th>\n",
       "      <th>Genetic_Risk</th>\n",
       "      <th>Air_Pollution</th>\n",
       "      <th>Alcohol_Use</th>\n",
       "      <th>Smoking</th>\n",
       "      <th>Obesity_Level</th>\n",
       "      <th>Cancer_Type</th>\n",
       "      <th>Cancer_Stage</th>\n",
       "      <th>Treatment_Cost_USD</th>\n",
       "      <th>Survival_Years</th>\n",
       "      <th>Target_Severity_Score</th>\n",
       "      <th>Age_group</th>\n",
       "    </tr>\n",
       "  </thead>\n",
       "  <tbody>\n",
       "    <tr>\n",
       "      <th>0</th>\n",
       "      <td>PT0000000</td>\n",
       "      <td>71</td>\n",
       "      <td>Male</td>\n",
       "      <td>UK</td>\n",
       "      <td>2021</td>\n",
       "      <td>6.4</td>\n",
       "      <td>2.8</td>\n",
       "      <td>9.5</td>\n",
       "      <td>0.9</td>\n",
       "      <td>8.7</td>\n",
       "      <td>Lung</td>\n",
       "      <td>Stage III</td>\n",
       "      <td>62913.44</td>\n",
       "      <td>5.9</td>\n",
       "      <td>4.92</td>\n",
       "      <td>61-75</td>\n",
       "    </tr>\n",
       "    <tr>\n",
       "      <th>1</th>\n",
       "      <td>PT0000001</td>\n",
       "      <td>34</td>\n",
       "      <td>Male</td>\n",
       "      <td>China</td>\n",
       "      <td>2021</td>\n",
       "      <td>1.3</td>\n",
       "      <td>4.5</td>\n",
       "      <td>3.7</td>\n",
       "      <td>3.9</td>\n",
       "      <td>6.3</td>\n",
       "      <td>Leukemia</td>\n",
       "      <td>Stage 0</td>\n",
       "      <td>12573.41</td>\n",
       "      <td>4.7</td>\n",
       "      <td>4.65</td>\n",
       "      <td>31-45</td>\n",
       "    </tr>\n",
       "    <tr>\n",
       "      <th>2</th>\n",
       "      <td>PT0000002</td>\n",
       "      <td>80</td>\n",
       "      <td>Male</td>\n",
       "      <td>Pakistan</td>\n",
       "      <td>2023</td>\n",
       "      <td>7.4</td>\n",
       "      <td>7.9</td>\n",
       "      <td>2.4</td>\n",
       "      <td>4.7</td>\n",
       "      <td>0.1</td>\n",
       "      <td>Breast</td>\n",
       "      <td>Stage II</td>\n",
       "      <td>6984.33</td>\n",
       "      <td>7.1</td>\n",
       "      <td>5.84</td>\n",
       "      <td>76-90</td>\n",
       "    </tr>\n",
       "    <tr>\n",
       "      <th>3</th>\n",
       "      <td>PT0000003</td>\n",
       "      <td>40</td>\n",
       "      <td>Male</td>\n",
       "      <td>UK</td>\n",
       "      <td>2015</td>\n",
       "      <td>1.7</td>\n",
       "      <td>2.9</td>\n",
       "      <td>4.8</td>\n",
       "      <td>3.5</td>\n",
       "      <td>2.7</td>\n",
       "      <td>Colon</td>\n",
       "      <td>Stage I</td>\n",
       "      <td>67446.25</td>\n",
       "      <td>1.6</td>\n",
       "      <td>3.12</td>\n",
       "      <td>31-45</td>\n",
       "    </tr>\n",
       "    <tr>\n",
       "      <th>4</th>\n",
       "      <td>PT0000004</td>\n",
       "      <td>43</td>\n",
       "      <td>Female</td>\n",
       "      <td>Brazil</td>\n",
       "      <td>2017</td>\n",
       "      <td>5.1</td>\n",
       "      <td>2.8</td>\n",
       "      <td>2.3</td>\n",
       "      <td>6.7</td>\n",
       "      <td>0.5</td>\n",
       "      <td>Skin</td>\n",
       "      <td>Stage III</td>\n",
       "      <td>77977.12</td>\n",
       "      <td>2.9</td>\n",
       "      <td>3.62</td>\n",
       "      <td>31-45</td>\n",
       "    </tr>\n",
       "    <tr>\n",
       "      <th>...</th>\n",
       "      <td>...</td>\n",
       "      <td>...</td>\n",
       "      <td>...</td>\n",
       "      <td>...</td>\n",
       "      <td>...</td>\n",
       "      <td>...</td>\n",
       "      <td>...</td>\n",
       "      <td>...</td>\n",
       "      <td>...</td>\n",
       "      <td>...</td>\n",
       "      <td>...</td>\n",
       "      <td>...</td>\n",
       "      <td>...</td>\n",
       "      <td>...</td>\n",
       "      <td>...</td>\n",
       "      <td>...</td>\n",
       "    </tr>\n",
       "    <tr>\n",
       "      <th>49995</th>\n",
       "      <td>PT0049995</td>\n",
       "      <td>80</td>\n",
       "      <td>Male</td>\n",
       "      <td>Pakistan</td>\n",
       "      <td>2023</td>\n",
       "      <td>2.3</td>\n",
       "      <td>7.5</td>\n",
       "      <td>2.8</td>\n",
       "      <td>3.8</td>\n",
       "      <td>2.9</td>\n",
       "      <td>Leukemia</td>\n",
       "      <td>Stage 0</td>\n",
       "      <td>71463.70</td>\n",
       "      <td>1.0</td>\n",
       "      <td>3.63</td>\n",
       "      <td>76-90</td>\n",
       "    </tr>\n",
       "    <tr>\n",
       "      <th>49996</th>\n",
       "      <td>PT0049996</td>\n",
       "      <td>40</td>\n",
       "      <td>Female</td>\n",
       "      <td>USA</td>\n",
       "      <td>2018</td>\n",
       "      <td>6.4</td>\n",
       "      <td>3.5</td>\n",
       "      <td>2.9</td>\n",
       "      <td>9.0</td>\n",
       "      <td>9.8</td>\n",
       "      <td>Colon</td>\n",
       "      <td>Stage I</td>\n",
       "      <td>49619.66</td>\n",
       "      <td>0.4</td>\n",
       "      <td>6.03</td>\n",
       "      <td>31-45</td>\n",
       "    </tr>\n",
       "    <tr>\n",
       "      <th>49997</th>\n",
       "      <td>PT0049997</td>\n",
       "      <td>74</td>\n",
       "      <td>Male</td>\n",
       "      <td>Pakistan</td>\n",
       "      <td>2015</td>\n",
       "      <td>6.2</td>\n",
       "      <td>1.6</td>\n",
       "      <td>8.7</td>\n",
       "      <td>4.7</td>\n",
       "      <td>4.0</td>\n",
       "      <td>Breast</td>\n",
       "      <td>Stage 0</td>\n",
       "      <td>5338.25</td>\n",
       "      <td>2.7</td>\n",
       "      <td>6.02</td>\n",
       "      <td>61-75</td>\n",
       "    </tr>\n",
       "    <tr>\n",
       "      <th>49998</th>\n",
       "      <td>PT0049998</td>\n",
       "      <td>21</td>\n",
       "      <td>Male</td>\n",
       "      <td>Brazil</td>\n",
       "      <td>2018</td>\n",
       "      <td>4.0</td>\n",
       "      <td>6.5</td>\n",
       "      <td>7.6</td>\n",
       "      <td>8.6</td>\n",
       "      <td>8.1</td>\n",
       "      <td>Liver</td>\n",
       "      <td>Stage IV</td>\n",
       "      <td>45100.47</td>\n",
       "      <td>7.5</td>\n",
       "      <td>6.54</td>\n",
       "      <td>0-30</td>\n",
       "    </tr>\n",
       "    <tr>\n",
       "      <th>49999</th>\n",
       "      <td>PT0049999</td>\n",
       "      <td>22</td>\n",
       "      <td>Male</td>\n",
       "      <td>Pakistan</td>\n",
       "      <td>2023</td>\n",
       "      <td>5.1</td>\n",
       "      <td>9.8</td>\n",
       "      <td>3.2</td>\n",
       "      <td>0.0</td>\n",
       "      <td>0.7</td>\n",
       "      <td>Liver</td>\n",
       "      <td>Stage 0</td>\n",
       "      <td>64023.82</td>\n",
       "      <td>7.4</td>\n",
       "      <td>3.76</td>\n",
       "      <td>0-30</td>\n",
       "    </tr>\n",
       "  </tbody>\n",
       "</table>\n",
       "<p>50000 rows × 16 columns</p>\n",
       "</div>"
      ],
      "text/plain": [
       "      Patient_ID  Age  Gender Country_Region  Year  Genetic_Risk  \\\n",
       "0      PT0000000   71    Male             UK  2021           6.4   \n",
       "1      PT0000001   34    Male          China  2021           1.3   \n",
       "2      PT0000002   80    Male       Pakistan  2023           7.4   \n",
       "3      PT0000003   40    Male             UK  2015           1.7   \n",
       "4      PT0000004   43  Female         Brazil  2017           5.1   \n",
       "...          ...  ...     ...            ...   ...           ...   \n",
       "49995  PT0049995   80    Male       Pakistan  2023           2.3   \n",
       "49996  PT0049996   40  Female            USA  2018           6.4   \n",
       "49997  PT0049997   74    Male       Pakistan  2015           6.2   \n",
       "49998  PT0049998   21    Male         Brazil  2018           4.0   \n",
       "49999  PT0049999   22    Male       Pakistan  2023           5.1   \n",
       "\n",
       "       Air_Pollution  Alcohol_Use  Smoking  Obesity_Level Cancer_Type  \\\n",
       "0                2.8          9.5      0.9            8.7        Lung   \n",
       "1                4.5          3.7      3.9            6.3    Leukemia   \n",
       "2                7.9          2.4      4.7            0.1      Breast   \n",
       "3                2.9          4.8      3.5            2.7       Colon   \n",
       "4                2.8          2.3      6.7            0.5        Skin   \n",
       "...              ...          ...      ...            ...         ...   \n",
       "49995            7.5          2.8      3.8            2.9    Leukemia   \n",
       "49996            3.5          2.9      9.0            9.8       Colon   \n",
       "49997            1.6          8.7      4.7            4.0      Breast   \n",
       "49998            6.5          7.6      8.6            8.1       Liver   \n",
       "49999            9.8          3.2      0.0            0.7       Liver   \n",
       "\n",
       "      Cancer_Stage  Treatment_Cost_USD  Survival_Years  Target_Severity_Score  \\\n",
       "0        Stage III            62913.44             5.9                   4.92   \n",
       "1          Stage 0            12573.41             4.7                   4.65   \n",
       "2         Stage II             6984.33             7.1                   5.84   \n",
       "3          Stage I            67446.25             1.6                   3.12   \n",
       "4        Stage III            77977.12             2.9                   3.62   \n",
       "...            ...                 ...             ...                    ...   \n",
       "49995      Stage 0            71463.70             1.0                   3.63   \n",
       "49996      Stage I            49619.66             0.4                   6.03   \n",
       "49997      Stage 0             5338.25             2.7                   6.02   \n",
       "49998     Stage IV            45100.47             7.5                   6.54   \n",
       "49999      Stage 0            64023.82             7.4                   3.76   \n",
       "\n",
       "      Age_group  \n",
       "0         61-75  \n",
       "1         31-45  \n",
       "2         76-90  \n",
       "3         31-45  \n",
       "4         31-45  \n",
       "...         ...  \n",
       "49995     76-90  \n",
       "49996     31-45  \n",
       "49997     61-75  \n",
       "49998      0-30  \n",
       "49999      0-30  \n",
       "\n",
       "[50000 rows x 16 columns]"
      ]
     },
     "execution_count": 107,
     "metadata": {},
     "output_type": "execute_result"
    }
   ],
   "source": [
    "data"
   ]
  },
  {
   "cell_type": "code",
   "execution_count": 108,
   "id": "0a6d3fe4",
   "metadata": {},
   "outputs": [],
   "source": [
    "country_age_cost= data.groupby([\"Country_Region\", \"Age_group\"])[\"Treatment_Cost_USD\"].mean().reset_index()"
   ]
  },
  {
   "cell_type": "code",
   "execution_count": 109,
   "id": "f50795df",
   "metadata": {},
   "outputs": [
    {
     "data": {
      "text/html": [
       "<div>\n",
       "<style scoped>\n",
       "    .dataframe tbody tr th:only-of-type {\n",
       "        vertical-align: middle;\n",
       "    }\n",
       "\n",
       "    .dataframe tbody tr th {\n",
       "        vertical-align: top;\n",
       "    }\n",
       "\n",
       "    .dataframe thead th {\n",
       "        text-align: right;\n",
       "    }\n",
       "</style>\n",
       "<table border=\"1\" class=\"dataframe\">\n",
       "  <thead>\n",
       "    <tr style=\"text-align: right;\">\n",
       "      <th></th>\n",
       "      <th>Country_Region</th>\n",
       "      <th>Age_group</th>\n",
       "      <th>Treatment_Cost_USD</th>\n",
       "    </tr>\n",
       "  </thead>\n",
       "  <tbody>\n",
       "    <tr>\n",
       "      <th>0</th>\n",
       "      <td>Australia</td>\n",
       "      <td>0-30</td>\n",
       "      <td>53315.916090</td>\n",
       "    </tr>\n",
       "    <tr>\n",
       "      <th>1</th>\n",
       "      <td>Australia</td>\n",
       "      <td>31-45</td>\n",
       "      <td>52290.210149</td>\n",
       "    </tr>\n",
       "    <tr>\n",
       "      <th>2</th>\n",
       "      <td>Australia</td>\n",
       "      <td>46-60</td>\n",
       "      <td>50887.310424</td>\n",
       "    </tr>\n",
       "    <tr>\n",
       "      <th>3</th>\n",
       "      <td>Australia</td>\n",
       "      <td>61-75</td>\n",
       "      <td>51827.812279</td>\n",
       "    </tr>\n",
       "    <tr>\n",
       "      <th>4</th>\n",
       "      <td>Australia</td>\n",
       "      <td>76-90</td>\n",
       "      <td>54922.283170</td>\n",
       "    </tr>\n",
       "    <tr>\n",
       "      <th>5</th>\n",
       "      <td>Brazil</td>\n",
       "      <td>0-30</td>\n",
       "      <td>53814.974610</td>\n",
       "    </tr>\n",
       "    <tr>\n",
       "      <th>6</th>\n",
       "      <td>Brazil</td>\n",
       "      <td>31-45</td>\n",
       "      <td>53178.611181</td>\n",
       "    </tr>\n",
       "    <tr>\n",
       "      <th>7</th>\n",
       "      <td>Brazil</td>\n",
       "      <td>46-60</td>\n",
       "      <td>52650.893070</td>\n",
       "    </tr>\n",
       "    <tr>\n",
       "      <th>8</th>\n",
       "      <td>Brazil</td>\n",
       "      <td>61-75</td>\n",
       "      <td>51854.086124</td>\n",
       "    </tr>\n",
       "    <tr>\n",
       "      <th>9</th>\n",
       "      <td>Brazil</td>\n",
       "      <td>76-90</td>\n",
       "      <td>51448.451094</td>\n",
       "    </tr>\n",
       "    <tr>\n",
       "      <th>10</th>\n",
       "      <td>Canada</td>\n",
       "      <td>0-30</td>\n",
       "      <td>52583.063081</td>\n",
       "    </tr>\n",
       "    <tr>\n",
       "      <th>11</th>\n",
       "      <td>Canada</td>\n",
       "      <td>31-45</td>\n",
       "      <td>53055.260081</td>\n",
       "    </tr>\n",
       "    <tr>\n",
       "      <th>12</th>\n",
       "      <td>Canada</td>\n",
       "      <td>46-60</td>\n",
       "      <td>52579.183330</td>\n",
       "    </tr>\n",
       "    <tr>\n",
       "      <th>13</th>\n",
       "      <td>Canada</td>\n",
       "      <td>61-75</td>\n",
       "      <td>52123.439015</td>\n",
       "    </tr>\n",
       "    <tr>\n",
       "      <th>14</th>\n",
       "      <td>Canada</td>\n",
       "      <td>76-90</td>\n",
       "      <td>52561.921587</td>\n",
       "    </tr>\n",
       "    <tr>\n",
       "      <th>15</th>\n",
       "      <td>China</td>\n",
       "      <td>0-30</td>\n",
       "      <td>53168.658869</td>\n",
       "    </tr>\n",
       "    <tr>\n",
       "      <th>16</th>\n",
       "      <td>China</td>\n",
       "      <td>31-45</td>\n",
       "      <td>51782.313638</td>\n",
       "    </tr>\n",
       "    <tr>\n",
       "      <th>17</th>\n",
       "      <td>China</td>\n",
       "      <td>46-60</td>\n",
       "      <td>53075.659509</td>\n",
       "    </tr>\n",
       "    <tr>\n",
       "      <th>18</th>\n",
       "      <td>China</td>\n",
       "      <td>61-75</td>\n",
       "      <td>53438.460704</td>\n",
       "    </tr>\n",
       "    <tr>\n",
       "      <th>19</th>\n",
       "      <td>China</td>\n",
       "      <td>76-90</td>\n",
       "      <td>53109.919351</td>\n",
       "    </tr>\n",
       "    <tr>\n",
       "      <th>20</th>\n",
       "      <td>Germany</td>\n",
       "      <td>0-30</td>\n",
       "      <td>53516.512180</td>\n",
       "    </tr>\n",
       "    <tr>\n",
       "      <th>21</th>\n",
       "      <td>Germany</td>\n",
       "      <td>31-45</td>\n",
       "      <td>53350.239752</td>\n",
       "    </tr>\n",
       "    <tr>\n",
       "      <th>22</th>\n",
       "      <td>Germany</td>\n",
       "      <td>46-60</td>\n",
       "      <td>53107.842802</td>\n",
       "    </tr>\n",
       "    <tr>\n",
       "      <th>23</th>\n",
       "      <td>Germany</td>\n",
       "      <td>61-75</td>\n",
       "      <td>52340.634559</td>\n",
       "    </tr>\n",
       "    <tr>\n",
       "      <th>24</th>\n",
       "      <td>Germany</td>\n",
       "      <td>76-90</td>\n",
       "      <td>51770.285168</td>\n",
       "    </tr>\n",
       "    <tr>\n",
       "      <th>25</th>\n",
       "      <td>India</td>\n",
       "      <td>0-30</td>\n",
       "      <td>51184.896086</td>\n",
       "    </tr>\n",
       "    <tr>\n",
       "      <th>26</th>\n",
       "      <td>India</td>\n",
       "      <td>31-45</td>\n",
       "      <td>50724.862964</td>\n",
       "    </tr>\n",
       "    <tr>\n",
       "      <th>27</th>\n",
       "      <td>India</td>\n",
       "      <td>46-60</td>\n",
       "      <td>52947.842856</td>\n",
       "    </tr>\n",
       "    <tr>\n",
       "      <th>28</th>\n",
       "      <td>India</td>\n",
       "      <td>61-75</td>\n",
       "      <td>53356.624661</td>\n",
       "    </tr>\n",
       "    <tr>\n",
       "      <th>29</th>\n",
       "      <td>India</td>\n",
       "      <td>76-90</td>\n",
       "      <td>52937.552968</td>\n",
       "    </tr>\n",
       "    <tr>\n",
       "      <th>30</th>\n",
       "      <td>Pakistan</td>\n",
       "      <td>0-30</td>\n",
       "      <td>53619.596628</td>\n",
       "    </tr>\n",
       "    <tr>\n",
       "      <th>31</th>\n",
       "      <td>Pakistan</td>\n",
       "      <td>31-45</td>\n",
       "      <td>49657.497105</td>\n",
       "    </tr>\n",
       "    <tr>\n",
       "      <th>32</th>\n",
       "      <td>Pakistan</td>\n",
       "      <td>46-60</td>\n",
       "      <td>51376.446424</td>\n",
       "    </tr>\n",
       "    <tr>\n",
       "      <th>33</th>\n",
       "      <td>Pakistan</td>\n",
       "      <td>61-75</td>\n",
       "      <td>51462.986816</td>\n",
       "    </tr>\n",
       "    <tr>\n",
       "      <th>34</th>\n",
       "      <td>Pakistan</td>\n",
       "      <td>76-90</td>\n",
       "      <td>52262.875575</td>\n",
       "    </tr>\n",
       "    <tr>\n",
       "      <th>35</th>\n",
       "      <td>Russia</td>\n",
       "      <td>0-30</td>\n",
       "      <td>51624.377309</td>\n",
       "    </tr>\n",
       "    <tr>\n",
       "      <th>36</th>\n",
       "      <td>Russia</td>\n",
       "      <td>31-45</td>\n",
       "      <td>52282.727465</td>\n",
       "    </tr>\n",
       "    <tr>\n",
       "      <th>37</th>\n",
       "      <td>Russia</td>\n",
       "      <td>46-60</td>\n",
       "      <td>52157.620660</td>\n",
       "    </tr>\n",
       "    <tr>\n",
       "      <th>38</th>\n",
       "      <td>Russia</td>\n",
       "      <td>61-75</td>\n",
       "      <td>52457.635951</td>\n",
       "    </tr>\n",
       "    <tr>\n",
       "      <th>39</th>\n",
       "      <td>Russia</td>\n",
       "      <td>76-90</td>\n",
       "      <td>52925.335015</td>\n",
       "    </tr>\n",
       "    <tr>\n",
       "      <th>40</th>\n",
       "      <td>UK</td>\n",
       "      <td>0-30</td>\n",
       "      <td>52142.675841</td>\n",
       "    </tr>\n",
       "    <tr>\n",
       "      <th>41</th>\n",
       "      <td>UK</td>\n",
       "      <td>31-45</td>\n",
       "      <td>51060.567452</td>\n",
       "    </tr>\n",
       "    <tr>\n",
       "      <th>42</th>\n",
       "      <td>UK</td>\n",
       "      <td>46-60</td>\n",
       "      <td>51870.619927</td>\n",
       "    </tr>\n",
       "    <tr>\n",
       "      <th>43</th>\n",
       "      <td>UK</td>\n",
       "      <td>61-75</td>\n",
       "      <td>53248.228373</td>\n",
       "    </tr>\n",
       "    <tr>\n",
       "      <th>44</th>\n",
       "      <td>UK</td>\n",
       "      <td>76-90</td>\n",
       "      <td>52692.972380</td>\n",
       "    </tr>\n",
       "    <tr>\n",
       "      <th>45</th>\n",
       "      <td>USA</td>\n",
       "      <td>0-30</td>\n",
       "      <td>52519.910333</td>\n",
       "    </tr>\n",
       "    <tr>\n",
       "      <th>46</th>\n",
       "      <td>USA</td>\n",
       "      <td>31-45</td>\n",
       "      <td>53709.716187</td>\n",
       "    </tr>\n",
       "    <tr>\n",
       "      <th>47</th>\n",
       "      <td>USA</td>\n",
       "      <td>46-60</td>\n",
       "      <td>51406.817357</td>\n",
       "    </tr>\n",
       "    <tr>\n",
       "      <th>48</th>\n",
       "      <td>USA</td>\n",
       "      <td>61-75</td>\n",
       "      <td>53480.698907</td>\n",
       "    </tr>\n",
       "    <tr>\n",
       "      <th>49</th>\n",
       "      <td>USA</td>\n",
       "      <td>76-90</td>\n",
       "      <td>53126.174016</td>\n",
       "    </tr>\n",
       "  </tbody>\n",
       "</table>\n",
       "</div>"
      ],
      "text/plain": [
       "   Country_Region Age_group  Treatment_Cost_USD\n",
       "0       Australia      0-30        53315.916090\n",
       "1       Australia     31-45        52290.210149\n",
       "2       Australia     46-60        50887.310424\n",
       "3       Australia     61-75        51827.812279\n",
       "4       Australia     76-90        54922.283170\n",
       "5          Brazil      0-30        53814.974610\n",
       "6          Brazil     31-45        53178.611181\n",
       "7          Brazil     46-60        52650.893070\n",
       "8          Brazil     61-75        51854.086124\n",
       "9          Brazil     76-90        51448.451094\n",
       "10         Canada      0-30        52583.063081\n",
       "11         Canada     31-45        53055.260081\n",
       "12         Canada     46-60        52579.183330\n",
       "13         Canada     61-75        52123.439015\n",
       "14         Canada     76-90        52561.921587\n",
       "15          China      0-30        53168.658869\n",
       "16          China     31-45        51782.313638\n",
       "17          China     46-60        53075.659509\n",
       "18          China     61-75        53438.460704\n",
       "19          China     76-90        53109.919351\n",
       "20        Germany      0-30        53516.512180\n",
       "21        Germany     31-45        53350.239752\n",
       "22        Germany     46-60        53107.842802\n",
       "23        Germany     61-75        52340.634559\n",
       "24        Germany     76-90        51770.285168\n",
       "25          India      0-30        51184.896086\n",
       "26          India     31-45        50724.862964\n",
       "27          India     46-60        52947.842856\n",
       "28          India     61-75        53356.624661\n",
       "29          India     76-90        52937.552968\n",
       "30       Pakistan      0-30        53619.596628\n",
       "31       Pakistan     31-45        49657.497105\n",
       "32       Pakistan     46-60        51376.446424\n",
       "33       Pakistan     61-75        51462.986816\n",
       "34       Pakistan     76-90        52262.875575\n",
       "35         Russia      0-30        51624.377309\n",
       "36         Russia     31-45        52282.727465\n",
       "37         Russia     46-60        52157.620660\n",
       "38         Russia     61-75        52457.635951\n",
       "39         Russia     76-90        52925.335015\n",
       "40             UK      0-30        52142.675841\n",
       "41             UK     31-45        51060.567452\n",
       "42             UK     46-60        51870.619927\n",
       "43             UK     61-75        53248.228373\n",
       "44             UK     76-90        52692.972380\n",
       "45            USA      0-30        52519.910333\n",
       "46            USA     31-45        53709.716187\n",
       "47            USA     46-60        51406.817357\n",
       "48            USA     61-75        53480.698907\n",
       "49            USA     76-90        53126.174016"
      ]
     },
     "execution_count": 109,
     "metadata": {},
     "output_type": "execute_result"
    }
   ],
   "source": [
    "country_age_cost"
   ]
  },
  {
   "cell_type": "code",
   "execution_count": 111,
   "id": "17770a47",
   "metadata": {},
   "outputs": [],
   "source": [
    "heatmap_data= country_age_cost.pivot(index=\"Age_group\", columns=\"Country_Region\", values=\"Treatment_Cost_USD\")"
   ]
  },
  {
   "cell_type": "code",
   "execution_count": 112,
   "id": "1f5d8b3e",
   "metadata": {},
   "outputs": [
    {
     "data": {
      "text/html": [
       "<div>\n",
       "<style scoped>\n",
       "    .dataframe tbody tr th:only-of-type {\n",
       "        vertical-align: middle;\n",
       "    }\n",
       "\n",
       "    .dataframe tbody tr th {\n",
       "        vertical-align: top;\n",
       "    }\n",
       "\n",
       "    .dataframe thead th {\n",
       "        text-align: right;\n",
       "    }\n",
       "</style>\n",
       "<table border=\"1\" class=\"dataframe\">\n",
       "  <thead>\n",
       "    <tr style=\"text-align: right;\">\n",
       "      <th>Country_Region</th>\n",
       "      <th>Australia</th>\n",
       "      <th>Brazil</th>\n",
       "      <th>Canada</th>\n",
       "      <th>China</th>\n",
       "      <th>Germany</th>\n",
       "      <th>India</th>\n",
       "      <th>Pakistan</th>\n",
       "      <th>Russia</th>\n",
       "      <th>UK</th>\n",
       "      <th>USA</th>\n",
       "    </tr>\n",
       "    <tr>\n",
       "      <th>Age_group</th>\n",
       "      <th></th>\n",
       "      <th></th>\n",
       "      <th></th>\n",
       "      <th></th>\n",
       "      <th></th>\n",
       "      <th></th>\n",
       "      <th></th>\n",
       "      <th></th>\n",
       "      <th></th>\n",
       "      <th></th>\n",
       "    </tr>\n",
       "  </thead>\n",
       "  <tbody>\n",
       "    <tr>\n",
       "      <th>0-30</th>\n",
       "      <td>53315.916090</td>\n",
       "      <td>53814.974610</td>\n",
       "      <td>52583.063081</td>\n",
       "      <td>53168.658869</td>\n",
       "      <td>53516.512180</td>\n",
       "      <td>51184.896086</td>\n",
       "      <td>53619.596628</td>\n",
       "      <td>51624.377309</td>\n",
       "      <td>52142.675841</td>\n",
       "      <td>52519.910333</td>\n",
       "    </tr>\n",
       "    <tr>\n",
       "      <th>31-45</th>\n",
       "      <td>52290.210149</td>\n",
       "      <td>53178.611181</td>\n",
       "      <td>53055.260081</td>\n",
       "      <td>51782.313638</td>\n",
       "      <td>53350.239752</td>\n",
       "      <td>50724.862964</td>\n",
       "      <td>49657.497105</td>\n",
       "      <td>52282.727465</td>\n",
       "      <td>51060.567452</td>\n",
       "      <td>53709.716187</td>\n",
       "    </tr>\n",
       "    <tr>\n",
       "      <th>46-60</th>\n",
       "      <td>50887.310424</td>\n",
       "      <td>52650.893070</td>\n",
       "      <td>52579.183330</td>\n",
       "      <td>53075.659509</td>\n",
       "      <td>53107.842802</td>\n",
       "      <td>52947.842856</td>\n",
       "      <td>51376.446424</td>\n",
       "      <td>52157.620660</td>\n",
       "      <td>51870.619927</td>\n",
       "      <td>51406.817357</td>\n",
       "    </tr>\n",
       "    <tr>\n",
       "      <th>61-75</th>\n",
       "      <td>51827.812279</td>\n",
       "      <td>51854.086124</td>\n",
       "      <td>52123.439015</td>\n",
       "      <td>53438.460704</td>\n",
       "      <td>52340.634559</td>\n",
       "      <td>53356.624661</td>\n",
       "      <td>51462.986816</td>\n",
       "      <td>52457.635951</td>\n",
       "      <td>53248.228373</td>\n",
       "      <td>53480.698907</td>\n",
       "    </tr>\n",
       "    <tr>\n",
       "      <th>76-90</th>\n",
       "      <td>54922.283170</td>\n",
       "      <td>51448.451094</td>\n",
       "      <td>52561.921587</td>\n",
       "      <td>53109.919351</td>\n",
       "      <td>51770.285168</td>\n",
       "      <td>52937.552968</td>\n",
       "      <td>52262.875575</td>\n",
       "      <td>52925.335015</td>\n",
       "      <td>52692.972380</td>\n",
       "      <td>53126.174016</td>\n",
       "    </tr>\n",
       "  </tbody>\n",
       "</table>\n",
       "</div>"
      ],
      "text/plain": [
       "Country_Region     Australia        Brazil        Canada         China  \\\n",
       "Age_group                                                                \n",
       "0-30            53315.916090  53814.974610  52583.063081  53168.658869   \n",
       "31-45           52290.210149  53178.611181  53055.260081  51782.313638   \n",
       "46-60           50887.310424  52650.893070  52579.183330  53075.659509   \n",
       "61-75           51827.812279  51854.086124  52123.439015  53438.460704   \n",
       "76-90           54922.283170  51448.451094  52561.921587  53109.919351   \n",
       "\n",
       "Country_Region       Germany         India      Pakistan        Russia  \\\n",
       "Age_group                                                                \n",
       "0-30            53516.512180  51184.896086  53619.596628  51624.377309   \n",
       "31-45           53350.239752  50724.862964  49657.497105  52282.727465   \n",
       "46-60           53107.842802  52947.842856  51376.446424  52157.620660   \n",
       "61-75           52340.634559  53356.624661  51462.986816  52457.635951   \n",
       "76-90           51770.285168  52937.552968  52262.875575  52925.335015   \n",
       "\n",
       "Country_Region            UK           USA  \n",
       "Age_group                                   \n",
       "0-30            52142.675841  52519.910333  \n",
       "31-45           51060.567452  53709.716187  \n",
       "46-60           51870.619927  51406.817357  \n",
       "61-75           53248.228373  53480.698907  \n",
       "76-90           52692.972380  53126.174016  "
      ]
     },
     "execution_count": 112,
     "metadata": {},
     "output_type": "execute_result"
    }
   ],
   "source": [
    "heatmap_data"
   ]
  },
  {
   "cell_type": "code",
   "execution_count": 113,
   "id": "1c093eac",
   "metadata": {},
   "outputs": [
    {
     "data": {
      "image/png": "[encoded data removed]",
      "text/plain": [
       "<Figure size 1000x600 with 2 Axes>"
      ]
     },
     "metadata": {},
     "output_type": "display_data"
    }
   ],
   "source": [
    "plt.figure(figsize=(10,6))\n",
    "sns.heatmap(heatmap_data, annot=True, fmt=\".0f\")\n",
    "plt.title(\"Average Treatment  cost by Age Group and  Country\")\n",
    "plt.show()"
   ]
  },
  {
   "cell_type": "markdown",
   "id": "35ececd6",
   "metadata": {},
   "source": [
    "### Assess whether higher treatment cost is associated with longer survival"
   ]
  },
  {
   "cell_type": "code",
   "execution_count": 114,
   "id": "ce2db2d3",
   "metadata": {},
   "outputs": [
    {
     "data": {
      "text/plain": [
       "Index(['Patient_ID', 'Age', 'Gender', 'Country_Region', 'Year', 'Genetic_Risk',\n",
       "       'Air_Pollution', 'Alcohol_Use', 'Smoking', 'Obesity_Level',\n",
       "       'Cancer_Type', 'Cancer_Stage', 'Treatment_Cost_USD', 'Survival_Years',\n",
       "       'Target_Severity_Score', 'Age_group'],\n",
       "      dtype='object')"
      ]
     },
     "execution_count": 114,
     "metadata": {},
     "output_type": "execute_result"
    }
   ],
   "source": [
    "data.columns"
   ]
  },
  {
   "cell_type": "markdown",
   "id": "162df131",
   "metadata": {},
   "source": [
    "Null Hypothesis (H0) : There is no correlation between treatment cost and survivl years\n",
    "Alternative hypothesis (H1) : There is a correlation (positive or negative) between treatment cost and survival years."
   ]
  },
  {
   "cell_type": "code",
   "execution_count": 115,
   "id": "580f7acd",
   "metadata": {},
   "outputs": [
    {
     "name": "stdout",
     "output_type": "stream",
     "text": [
      "Pearson Correlation Coefficient: -0.0004294054283021486\n",
      "Pearson P-Value : 0.9235082012963326\n",
      "spearman Correlation Coefficient: -0.0004454737292549569\n",
      "spearman P-Value : 0.9206551702014918\n",
      "Pearson, we failed to reject null hypothesis\n",
      "Spearman, we failed to reject null hypothesis\n"
     ]
    }
   ],
   "source": [
    "from scipy.stats  import pearsonr, spearmanr\n",
    "\n",
    "x= data[\"Treatment_Cost_USD\"]\n",
    "y= data[\"Survival_Years\"]\n",
    "\n",
    "# performing pearson correlation test\n",
    "pearson_corr, pearson_p = pearsonr(x,y)\n",
    "print(f\"Pearson Correlation Coefficient: {pearson_corr}\")\n",
    "print(f\"Pearson P-Value : {pearson_p}\") \n",
    "\n",
    "# Spearman correlation test\n",
    "spearman_corr, spearman_p = spearmanr(x,y)\n",
    "print(f\"spearman Correlation Coefficient: {spearman_corr}\")\n",
    "print(f\"spearman P-Value : {spearman_p}\") \n",
    "\n",
    "alpha=0.05 \n",
    "\n",
    "def interpret_corr(corr, p, method):\n",
    "    if p<alpha:\n",
    "        print(f\"{method}, we  reject thr hull hypothesis\")\n",
    "    else:\n",
    "        print(f\"{method}, we failed to reject null hypothesis\") \n",
    "\n",
    "\n",
    "interpret_corr(pearson_corr,pearson_p,\"Pearson\")\n",
    "interpret_corr(spearman_corr,spearman_p,\"Spearman\")        "
   ]
  },
  {
   "cell_type": "code",
   "execution_count": 116,
   "id": "d3bd2bdb",
   "metadata": {},
   "outputs": [
    {
     "data": {
      "image/png": "[encoded data removed]",
      "text/plain": [
       "<Figure size 640x480 with 1 Axes>"
      ]
     },
     "metadata": {},
     "output_type": "display_data"
    }
   ],
   "source": [
    "sns.regplot(x=x, y=y, line_kws={\"color\":\"red\"})\n",
    "plt.show()"
   ]
  },
  {
   "cell_type": "markdown",
   "id": "317987a2",
   "metadata": {},
   "source": [
    "### Evaluate if higher cancer stages lead to greater treatment costs and reduced survival years"
   ]
  },
  {
   "cell_type": "code",
   "execution_count": 117,
   "id": "859fa75a",
   "metadata": {},
   "outputs": [
    {
     "data": {
      "text/html": [
       "<div>\n",
       "<style scoped>\n",
       "    .dataframe tbody tr th:only-of-type {\n",
       "        vertical-align: middle;\n",
       "    }\n",
       "\n",
       "    .dataframe tbody tr th {\n",
       "        vertical-align: top;\n",
       "    }\n",
       "\n",
       "    .dataframe thead th {\n",
       "        text-align: right;\n",
       "    }\n",
       "</style>\n",
       "<table border=\"1\" class=\"dataframe\">\n",
       "  <thead>\n",
       "    <tr style=\"text-align: right;\">\n",
       "      <th></th>\n",
       "      <th>Patient_ID</th>\n",
       "      <th>Age</th>\n",
       "      <th>Gender</th>\n",
       "      <th>Country_Region</th>\n",
       "      <th>Year</th>\n",
       "      <th>Genetic_Risk</th>\n",
       "      <th>Air_Pollution</th>\n",
       "      <th>Alcohol_Use</th>\n",
       "      <th>Smoking</th>\n",
       "      <th>Obesity_Level</th>\n",
       "      <th>Cancer_Type</th>\n",
       "      <th>Cancer_Stage</th>\n",
       "      <th>Treatment_Cost_USD</th>\n",
       "      <th>Survival_Years</th>\n",
       "      <th>Target_Severity_Score</th>\n",
       "      <th>Age_group</th>\n",
       "    </tr>\n",
       "  </thead>\n",
       "  <tbody>\n",
       "    <tr>\n",
       "      <th>0</th>\n",
       "      <td>PT0000000</td>\n",
       "      <td>71</td>\n",
       "      <td>Male</td>\n",
       "      <td>UK</td>\n",
       "      <td>2021</td>\n",
       "      <td>6.4</td>\n",
       "      <td>2.8</td>\n",
       "      <td>9.5</td>\n",
       "      <td>0.9</td>\n",
       "      <td>8.7</td>\n",
       "      <td>Lung</td>\n",
       "      <td>Stage III</td>\n",
       "      <td>62913.44</td>\n",
       "      <td>5.9</td>\n",
       "      <td>4.92</td>\n",
       "      <td>61-75</td>\n",
       "    </tr>\n",
       "    <tr>\n",
       "      <th>1</th>\n",
       "      <td>PT0000001</td>\n",
       "      <td>34</td>\n",
       "      <td>Male</td>\n",
       "      <td>China</td>\n",
       "      <td>2021</td>\n",
       "      <td>1.3</td>\n",
       "      <td>4.5</td>\n",
       "      <td>3.7</td>\n",
       "      <td>3.9</td>\n",
       "      <td>6.3</td>\n",
       "      <td>Leukemia</td>\n",
       "      <td>Stage 0</td>\n",
       "      <td>12573.41</td>\n",
       "      <td>4.7</td>\n",
       "      <td>4.65</td>\n",
       "      <td>31-45</td>\n",
       "    </tr>\n",
       "    <tr>\n",
       "      <th>2</th>\n",
       "      <td>PT0000002</td>\n",
       "      <td>80</td>\n",
       "      <td>Male</td>\n",
       "      <td>Pakistan</td>\n",
       "      <td>2023</td>\n",
       "      <td>7.4</td>\n",
       "      <td>7.9</td>\n",
       "      <td>2.4</td>\n",
       "      <td>4.7</td>\n",
       "      <td>0.1</td>\n",
       "      <td>Breast</td>\n",
       "      <td>Stage II</td>\n",
       "      <td>6984.33</td>\n",
       "      <td>7.1</td>\n",
       "      <td>5.84</td>\n",
       "      <td>76-90</td>\n",
       "    </tr>\n",
       "    <tr>\n",
       "      <th>3</th>\n",
       "      <td>PT0000003</td>\n",
       "      <td>40</td>\n",
       "      <td>Male</td>\n",
       "      <td>UK</td>\n",
       "      <td>2015</td>\n",
       "      <td>1.7</td>\n",
       "      <td>2.9</td>\n",
       "      <td>4.8</td>\n",
       "      <td>3.5</td>\n",
       "      <td>2.7</td>\n",
       "      <td>Colon</td>\n",
       "      <td>Stage I</td>\n",
       "      <td>67446.25</td>\n",
       "      <td>1.6</td>\n",
       "      <td>3.12</td>\n",
       "      <td>31-45</td>\n",
       "    </tr>\n",
       "    <tr>\n",
       "      <th>4</th>\n",
       "      <td>PT0000004</td>\n",
       "      <td>43</td>\n",
       "      <td>Female</td>\n",
       "      <td>Brazil</td>\n",
       "      <td>2017</td>\n",
       "      <td>5.1</td>\n",
       "      <td>2.8</td>\n",
       "      <td>2.3</td>\n",
       "      <td>6.7</td>\n",
       "      <td>0.5</td>\n",
       "      <td>Skin</td>\n",
       "      <td>Stage III</td>\n",
       "      <td>77977.12</td>\n",
       "      <td>2.9</td>\n",
       "      <td>3.62</td>\n",
       "      <td>31-45</td>\n",
       "    </tr>\n",
       "  </tbody>\n",
       "</table>\n",
       "</div>"
      ],
      "text/plain": [
       "  Patient_ID  Age  Gender Country_Region  Year  Genetic_Risk  Air_Pollution  \\\n",
       "0  PT0000000   71    Male             UK  2021           6.4            2.8   \n",
       "1  PT0000001   34    Male          China  2021           1.3            4.5   \n",
       "2  PT0000002   80    Male       Pakistan  2023           7.4            7.9   \n",
       "3  PT0000003   40    Male             UK  2015           1.7            2.9   \n",
       "4  PT0000004   43  Female         Brazil  2017           5.1            2.8   \n",
       "\n",
       "   Alcohol_Use  Smoking  Obesity_Level Cancer_Type Cancer_Stage  \\\n",
       "0          9.5      0.9            8.7        Lung    Stage III   \n",
       "1          3.7      3.9            6.3    Leukemia      Stage 0   \n",
       "2          2.4      4.7            0.1      Breast     Stage II   \n",
       "3          4.8      3.5            2.7       Colon      Stage I   \n",
       "4          2.3      6.7            0.5        Skin    Stage III   \n",
       "\n",
       "   Treatment_Cost_USD  Survival_Years  Target_Severity_Score Age_group  \n",
       "0            62913.44             5.9                   4.92     61-75  \n",
       "1            12573.41             4.7                   4.65     31-45  \n",
       "2             6984.33             7.1                   5.84     76-90  \n",
       "3            67446.25             1.6                   3.12     31-45  \n",
       "4            77977.12             2.9                   3.62     31-45  "
      ]
     },
     "execution_count": 117,
     "metadata": {},
     "output_type": "execute_result"
    }
   ],
   "source": [
    "data.head()"
   ]
  },
  {
   "cell_type": "code",
   "execution_count": 118,
   "id": "83a325ac",
   "metadata": {},
   "outputs": [],
   "source": [
    "df= data.copy()"
   ]
  },
  {
   "cell_type": "code",
   "execution_count": 119,
   "id": "e89ea5bc",
   "metadata": {},
   "outputs": [
    {
     "data": {
      "text/plain": [
       "array(['Stage III', 'Stage 0', 'Stage II', 'Stage I', 'Stage IV'],\n",
       "      dtype=object)"
      ]
     },
     "execution_count": 119,
     "metadata": {},
     "output_type": "execute_result"
    }
   ],
   "source": [
    "df['Cancer_Stage'].unique()"
   ]
  },
  {
   "cell_type": "code",
   "execution_count": 120,
   "id": "a250d6dd",
   "metadata": {},
   "outputs": [],
   "source": [
    "stage_order = ['Stage 0', 'Stage I', 'Stage II', 'Stage III', 'Stage IV']"
   ]
  },
  {
   "cell_type": "code",
   "execution_count": 124,
   "id": "a8d4ebeb",
   "metadata": {},
   "outputs": [],
   "source": [
    "grouped_stats = df.groupby('Cancer_Stage')[['Treatment_Cost_USD','Survival_Years']].mean().reset_index()"
   ]
  },
  {
   "cell_type": "code",
   "execution_count": 125,
   "id": "274005d4",
   "metadata": {},
   "outputs": [
    {
     "data": {
      "text/html": [
       "<div>\n",
       "<style scoped>\n",
       "    .dataframe tbody tr th:only-of-type {\n",
       "        vertical-align: middle;\n",
       "    }\n",
       "\n",
       "    .dataframe tbody tr th {\n",
       "        vertical-align: top;\n",
       "    }\n",
       "\n",
       "    .dataframe thead th {\n",
       "        text-align: right;\n",
       "    }\n",
       "</style>\n",
       "<table border=\"1\" class=\"dataframe\">\n",
       "  <thead>\n",
       "    <tr style=\"text-align: right;\">\n",
       "      <th></th>\n",
       "      <th>Cancer_Stage</th>\n",
       "      <th>Treatment_Cost_USD</th>\n",
       "      <th>Survival_Years</th>\n",
       "    </tr>\n",
       "  </thead>\n",
       "  <tbody>\n",
       "    <tr>\n",
       "      <th>0</th>\n",
       "      <td>Stage 0</td>\n",
       "      <td>52572.589493</td>\n",
       "      <td>5.015199</td>\n",
       "    </tr>\n",
       "    <tr>\n",
       "      <th>1</th>\n",
       "      <td>Stage I</td>\n",
       "      <td>52674.079638</td>\n",
       "      <td>5.012990</td>\n",
       "    </tr>\n",
       "    <tr>\n",
       "      <th>2</th>\n",
       "      <td>Stage II</td>\n",
       "      <td>52082.841258</td>\n",
       "      <td>4.995170</td>\n",
       "    </tr>\n",
       "    <tr>\n",
       "      <th>3</th>\n",
       "      <td>Stage III</td>\n",
       "      <td>52708.197506</td>\n",
       "      <td>5.036311</td>\n",
       "    </tr>\n",
       "    <tr>\n",
       "      <th>4</th>\n",
       "      <td>Stage IV</td>\n",
       "      <td>52302.471041</td>\n",
       "      <td>4.972596</td>\n",
       "    </tr>\n",
       "  </tbody>\n",
       "</table>\n",
       "</div>"
      ],
      "text/plain": [
       "  Cancer_Stage  Treatment_Cost_USD  Survival_Years\n",
       "0      Stage 0        52572.589493        5.015199\n",
       "1      Stage I        52674.079638        5.012990\n",
       "2     Stage II        52082.841258        4.995170\n",
       "3    Stage III        52708.197506        5.036311\n",
       "4     Stage IV        52302.471041        4.972596"
      ]
     },
     "execution_count": 125,
     "metadata": {},
     "output_type": "execute_result"
    }
   ],
   "source": [
    "grouped_stats"
   ]
  },
  {
   "cell_type": "code",
   "execution_count": 126,
   "id": "ed06dfb1",
   "metadata": {},
   "outputs": [],
   "source": [
    "grouped_costs=[]\n",
    "grouped_survival=[] \n",
    "\n",
    "for  stage in stage_order:\n",
    "    stage_data= df[df[\"Cancer_Stage\"]==stage]\n",
    "    cost= stage_data[\"Treatment_Cost_USD\"]\n",
    "    survival= stage_data[\"Survival_Years\"]\n",
    "    grouped_costs.append(cost)\n",
    "    grouped_survival.append(survival)"
   ]
  },
  {
   "cell_type": "code",
   "execution_count": 127,
   "id": "fbed3618",
   "metadata": {},
   "outputs": [
    {
     "data": {
      "text/plain": [
       "5"
      ]
     },
     "execution_count": 127,
     "metadata": {},
     "output_type": "execute_result"
    }
   ],
   "source": [
    "len(grouped_costs)"
   ]
  },
  {
   "cell_type": "code",
   "execution_count": 128,
   "id": "8cc16d94",
   "metadata": {},
   "outputs": [
    {
     "data": {
      "text/plain": [
       "5"
      ]
     },
     "execution_count": 128,
     "metadata": {},
     "output_type": "execute_result"
    }
   ],
   "source": [
    "len(grouped_survival)"
   ]
  },
  {
   "cell_type": "code",
   "execution_count": 129,
   "id": "51ab1d1d",
   "metadata": {},
   "outputs": [
    {
     "data": {
      "text/plain": [
       "[1        4.7\n",
       " 6        1.0\n",
       " 17       1.9\n",
       " 22       9.9\n",
       " 29       0.2\n",
       "         ... \n",
       " 49988    4.7\n",
       " 49989    2.2\n",
       " 49995    1.0\n",
       " 49997    2.7\n",
       " 49999    7.4\n",
       " Name: Survival_Years, Length: 9889, dtype: float64,\n",
       " 3        1.6\n",
       " 7        6.2\n",
       " 10       1.0\n",
       " 11       6.0\n",
       " 19       5.4\n",
       "         ... \n",
       " 49979    5.7\n",
       " 49981    7.6\n",
       " 49987    7.5\n",
       " 49993    4.2\n",
       " 49996    0.4\n",
       " Name: Survival_Years, Length: 10046, dtype: float64,\n",
       " 2        7.1\n",
       " 8        6.5\n",
       " 9        5.7\n",
       " 12       8.0\n",
       " 13       7.1\n",
       "         ... \n",
       " 49973    1.3\n",
       " 49978    0.9\n",
       " 49990    1.1\n",
       " 49991    9.5\n",
       " 49992    9.3\n",
       " Name: Survival_Years, Length: 10124, dtype: float64,\n",
       " 0        5.9\n",
       " 4        2.9\n",
       " 16       0.5\n",
       " 28       9.7\n",
       " 31       9.8\n",
       "         ... \n",
       " 49968    4.9\n",
       " 49976    4.2\n",
       " 49980    6.0\n",
       " 49983    0.7\n",
       " 49994    3.0\n",
       " Name: Survival_Years, Length: 10008, dtype: float64,\n",
       " 5        9.5\n",
       " 14       8.3\n",
       " 30       5.1\n",
       " 33       5.5\n",
       " 34       3.8\n",
       "         ... \n",
       " 49972    9.9\n",
       " 49982    7.5\n",
       " 49984    9.1\n",
       " 49985    7.4\n",
       " 49998    7.5\n",
       " Name: Survival_Years, Length: 9933, dtype: float64]"
      ]
     },
     "execution_count": 129,
     "metadata": {},
     "output_type": "execute_result"
    }
   ],
   "source": [
    "grouped_survival"
   ]
  },
  {
   "cell_type": "code",
   "execution_count": 130,
   "id": "4a700442",
   "metadata": {},
   "outputs": [
    {
     "name": "stdout",
     "output_type": "stream",
     "text": [
      " cost 1.5471821061637387e-47 for group 0\n",
      "Survival 1.6291039522109283e-47 for group 0\n",
      " cost 7.306523956950957e-48 for group 1\n",
      "Survival 7.575551046259697e-48 for group 1\n",
      " cost 8.943579643043388e-48 for group 2\n",
      "Survival 4.041659465829829e-48 for group 2\n",
      " cost 5.267270033022367e-48 for group 3\n",
      "Survival 1.3648520457944784e-47 for group 3\n",
      " cost 1.5838640189581322e-47 for group 4\n",
      "Survival 2.2992598289836786e-47 for group 4\n"
     ]
    }
   ],
   "source": [
    "# check for normaility\n",
    "from scipy.stats import  shapiro, f_oneway\n",
    "normal_cost=0\n",
    "normal_survival=0\n",
    "\n",
    "for i in range (len(stage_order)):\n",
    "    cost_p= shapiro(grouped_costs[i]).pvalue\n",
    "    surv_p= shapiro(grouped_survival[i]).pvalue \n",
    "    print(f\" cost {cost_p} for group {i}\")\n",
    "    print(f\"Survival {surv_p} for group {i}\")\n",
    "    if cost_p<0.05:\n",
    "        normal_cost+=1\n",
    "    if surv_p<0.05:\n",
    "        normal_survival+=1"
   ]
  },
  {
   "cell_type": "code",
   "execution_count": 131,
   "id": "e665a331",
   "metadata": {},
   "outputs": [
    {
     "name": "stdout",
     "output_type": "stream",
     "text": [
      "5\n",
      "5\n"
     ]
    }
   ],
   "source": [
    "print(normal_cost)\n",
    "print(normal_survival)"
   ]
  },
  {
   "cell_type": "code",
   "execution_count": 132,
   "id": "2ac4726b",
   "metadata": {},
   "outputs": [],
   "source": [
    "from scipy.stats import kruskal\n",
    "kusrkal_cost =kruskal(*grouped_costs)\n",
    "kurkal_survival= kruskal(*grouped_survival)\n",
    "\n",
    "p_cost= kusrkal_cost.pvalue\n",
    "p_survival= kurkal_survival.pvalue\n"
   ]
  },
  {
   "cell_type": "code",
   "execution_count": 133,
   "id": "fd46d3db",
   "metadata": {},
   "outputs": [
    {
     "data": {
      "text/plain": [
       "0.4254451689062656"
      ]
     },
     "execution_count": 133,
     "metadata": {},
     "output_type": "execute_result"
    }
   ],
   "source": [
    "p_cost"
   ]
  },
  {
   "cell_type": "code",
   "execution_count": 134,
   "id": "8033ab62",
   "metadata": {},
   "outputs": [
    {
     "data": {
      "text/plain": [
       "0.6033078729984223"
      ]
     },
     "execution_count": 134,
     "metadata": {},
     "output_type": "execute_result"
    }
   ],
   "source": [
    "p_survival"
   ]
  },
  {
   "cell_type": "markdown",
   "id": "a4f305fc",
   "metadata": {},
   "source": [
    "### Examine whether higher genetic risk amplifies the negative effects of smoking on cancer severity\n"
   ]
  },
  {
   "cell_type": "code",
   "execution_count": 135,
   "id": "0a73884f",
   "metadata": {},
   "outputs": [
    {
     "data": {
      "text/html": [
       "<table class=\"simpletable\">\n",
       "<tr>\n",
       "        <td>Model:</td>                 <td>OLS</td>            <td>Adj. R-squared:</td>      <td>0.466</td>   \n",
       "</tr>\n",
       "<tr>\n",
       "  <td>Dependent Variable:</td> <td>Target_Severity_Score</td>        <td>AIC:</td>         <td>128780.2176</td>\n",
       "</tr>\n",
       "<tr>\n",
       "         <td>Date:</td>          <td>2025-09-02 19:06</td>           <td>BIC:</td>         <td>128815.4967</td>\n",
       "</tr>\n",
       "<tr>\n",
       "   <td>No. Observations:</td>          <td>50000</td>           <td>Log-Likelihood:</td>     <td>-64386.</td>  \n",
       "</tr>\n",
       "<tr>\n",
       "       <td>Df Model:</td>                <td>3</td>              <td>F-statistic:</td>      <td>1.452e+04</td> \n",
       "</tr>\n",
       "<tr>\n",
       "     <td>Df Residuals:</td>            <td>49996</td>         <td>Prob (F-statistic):</td>    <td>0.00</td>    \n",
       "</tr>\n",
       "<tr>\n",
       "      <td>R-squared:</td>              <td>0.466</td>               <td>Scale:</td>          <td>0.76924</td>  \n",
       "</tr>\n",
       "</table>\n",
       "<table class=\"simpletable\">\n",
       "<tr>\n",
       "            <td></td>            <th>Coef.</th>  <th>Std.Err.</th>     <th>t</th>     <th>P>|t|</th> <th>[0.025</th>  <th>0.975]</th>\n",
       "</tr>\n",
       "<tr>\n",
       "  <th>Intercept</th>            <td>2.9363</td>   <td>0.0157</td>  <td>187.0523</td> <td>0.0000</td> <td>2.9056</td>  <td>2.9671</td>\n",
       "</tr>\n",
       "<tr>\n",
       "  <th>Genetic_Risk</th>         <td>0.2009</td>   <td>0.0027</td>   <td>74.1303</td> <td>0.0000</td> <td>0.1956</td>  <td>0.2062</td>\n",
       "</tr>\n",
       "<tr>\n",
       "  <th>Smoking</th>              <td>0.2036</td>   <td>0.0027</td>   <td>74.7710</td> <td>0.0000</td> <td>0.1982</td>  <td>0.2089</td>\n",
       "</tr>\n",
       "<tr>\n",
       "  <th>Genetic_Risk:Smoking</th> <td>-0.0002</td>  <td>0.0005</td>   <td>-0.4842</td> <td>0.6283</td> <td>-0.0012</td> <td>0.0007</td>\n",
       "</tr>\n",
       "</table>\n",
       "<table class=\"simpletable\">\n",
       "<tr>\n",
       "     <td>Omnibus:</td>    <td>353.462</td>  <td>Durbin-Watson:</td>    <td>1.998</td> \n",
       "</tr>\n",
       "<tr>\n",
       "  <td>Prob(Omnibus):</td>  <td>0.000</td>  <td>Jarque-Bera (JB):</td> <td>240.715</td>\n",
       "</tr>\n",
       "<tr>\n",
       "       <td>Skew:</td>     <td>-0.004</td>      <td>Prob(JB):</td>      <td>0.000</td> \n",
       "</tr>\n",
       "<tr>\n",
       "     <td>Kurtosis:</td>    <td>2.660</td>   <td>Condition No.:</td>     <td>139</td>  \n",
       "</tr>\n",
       "</table><br/>\n",
       "Notes:<br/>\n",
       "[1] Standard Errors assume that the covariance matrix of the errors is correctly specified."
      ],
      "text/latex": [
       "\\begin{table}\n",
       "\\caption{Results: Ordinary least squares}\n",
       "\\label{}\n",
       "\\begin{center}\n",
       "\\begin{tabular}{llll}\n",
       "\\hline\n",
       "Model:              & OLS                     & Adj. R-squared:     & 0.466        \\\\\n",
       "Dependent Variable: & Target\\_Severity\\_Score & AIC:                & 128780.2176  \\\\\n",
       "Date:               & 2025-09-02 19:06        & BIC:                & 128815.4967  \\\\\n",
       "No. Observations:   & 50000                   & Log-Likelihood:     & -64386.      \\\\\n",
       "Df Model:           & 3                       & F-statistic:        & 1.452e+04    \\\\\n",
       "Df Residuals:       & 49996                   & Prob (F-statistic): & 0.00         \\\\\n",
       "R-squared:          & 0.466                   & Scale:              & 0.76924      \\\\\n",
       "\\hline\n",
       "\\end{tabular}\n",
       "\\end{center}\n",
       "\n",
       "\\begin{center}\n",
       "\\begin{tabular}{lrrrrrr}\n",
       "\\hline\n",
       "                      &   Coef. & Std.Err. &        t & P$> |$t$|$ &  [0.025 & 0.975]  \\\\\n",
       "\\hline\n",
       "Intercept             &  2.9363 &   0.0157 & 187.0523 &      0.0000 &  2.9056 & 2.9671  \\\\\n",
       "Genetic\\_Risk         &  0.2009 &   0.0027 &  74.1303 &      0.0000 &  0.1956 & 0.2062  \\\\\n",
       "Smoking               &  0.2036 &   0.0027 &  74.7710 &      0.0000 &  0.1982 & 0.2089  \\\\\n",
       "Genetic\\_Risk:Smoking & -0.0002 &   0.0005 &  -0.4842 &      0.6283 & -0.0012 & 0.0007  \\\\\n",
       "\\hline\n",
       "\\end{tabular}\n",
       "\\end{center}\n",
       "\n",
       "\\begin{center}\n",
       "\\begin{tabular}{llll}\n",
       "\\hline\n",
       "Omnibus:       & 353.462 & Durbin-Watson:    & 1.998    \\\\\n",
       "Prob(Omnibus): & 0.000   & Jarque-Bera (JB): & 240.715  \\\\\n",
       "Skew:          & -0.004  & Prob(JB):         & 0.000    \\\\\n",
       "Kurtosis:      & 2.660   & Condition No.:    & 139      \\\\\n",
       "\\hline\n",
       "\\end{tabular}\n",
       "\\end{center}\n",
       "\\end{table}\n",
       "\\bigskip\n",
       "Notes: \\newline \n",
       "[1] Standard Errors assume that the covariance matrix of the errors is correctly specified."
      ],
      "text/plain": [
       "<class 'statsmodels.iolib.summary2.Summary'>\n",
       "\"\"\"\n",
       "                     Results: Ordinary least squares\n",
       "=========================================================================\n",
       "Model:              OLS                   Adj. R-squared:     0.466      \n",
       "Dependent Variable: Target_Severity_Score AIC:                128780.2176\n",
       "Date:               2025-09-02 19:06      BIC:                128815.4967\n",
       "No. Observations:   50000                 Log-Likelihood:     -64386.    \n",
       "Df Model:           3                     F-statistic:        1.452e+04  \n",
       "Df Residuals:       49996                 Prob (F-statistic): 0.00       \n",
       "R-squared:          0.466                 Scale:              0.76924    \n",
       "--------------------------------------------------------------------------\n",
       "                       Coef.   Std.Err.     t      P>|t|    [0.025  0.975]\n",
       "--------------------------------------------------------------------------\n",
       "Intercept              2.9363    0.0157  187.0523  0.0000   2.9056  2.9671\n",
       "Genetic_Risk           0.2009    0.0027   74.1303  0.0000   0.1956  0.2062\n",
       "Smoking                0.2036    0.0027   74.7710  0.0000   0.1982  0.2089\n",
       "Genetic_Risk:Smoking  -0.0002    0.0005   -0.4842  0.6283  -0.0012  0.0007\n",
       "-------------------------------------------------------------------------\n",
       "Omnibus:                353.462         Durbin-Watson:            1.998  \n",
       "Prob(Omnibus):          0.000           Jarque-Bera (JB):         240.715\n",
       "Skew:                   -0.004          Prob(JB):                 0.000  \n",
       "Kurtosis:               2.660           Condition No.:            139    \n",
       "=========================================================================\n",
       "Notes:\n",
       "[1] Standard Errors assume that the covariance matrix of the errors is\n",
       "correctly specified.\n",
       "\"\"\""
      ]
     },
     "execution_count": 135,
     "metadata": {},
     "output_type": "execute_result"
    }
   ],
   "source": [
    "import statsmodels.formula.api as smf \n",
    "\n",
    "model = smf.ols(\"Target_Severity_Score ~ Genetic_Risk*Smoking\", data=data).fit()\n",
    "\n",
    "model.summary2()"
   ]
  },
  {
   "cell_type": "code",
   "execution_count": 136,
   "id": "f76eeb38",
   "metadata": {},
   "outputs": [
    {
     "data": {
      "text/plain": [
       "Coef.      -0.000228\n",
       "Std.Err.    0.000471\n",
       "t          -0.484187\n",
       "P>|t|       0.628255\n",
       "[0.025     -0.001150\n",
       "0.975]      0.000694\n",
       "Name: Genetic_Risk:Smoking, dtype: float64"
      ]
     },
     "execution_count": 136,
     "metadata": {},
     "output_type": "execute_result"
    }
   ],
   "source": [
    "model.summary2().tables[1].loc[\"Genetic_Risk:Smoking\"]"
   ]
  },
  {
   "cell_type": "code",
   "execution_count": 137,
   "id": "17be5343",
   "metadata": {},
   "outputs": [],
   "source": [
    "p_value = 0.628255"
   ]
  },
  {
   "cell_type": "code",
   "execution_count": null,
   "id": "bf940903",
   "metadata": {},
   "outputs": [],
   "source": []
  }
 ],
 "metadata": {
  "kernelspec": {
   "display_name": "base",
   "language": "python",
   "name": "python3"
  },
  "language_info": {
   "codemirror_mode": {
    "name": "ipython",
    "version": 3
   },
   "file_extension": ".py",
   "mimetype": "text/x-python",
   "name": "python",
   "nbconvert_exporter": "python",
   "pygments_lexer": "ipython3",
   "version": "3.11.5"
  }
 },
 "nbformat": 4,
 "nbformat_minor": 5
}
